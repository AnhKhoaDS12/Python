{
 "cells": [
  {
   "cell_type": "code",
   "execution_count": 5,
   "id": "3702b4fc",
   "metadata": {},
   "outputs": [],
   "source": [
    "import warnings,matplotlib.pyplot as plt,matplotlib.image as mpimg,seaborn as sns,pandas as pd,numpy as np\n",
    "from sklearn.model_selection import train_test_split\n",
    "warnings.filterwarnings('ignore')"
   ]
  },
  {
   "cell_type": "code",
   "execution_count": null,
   "id": "66882706",
   "metadata": {},
   "outputs": [],
   "source": [
    "# list_dataset = sns.get_dataset_names()\n",
    "# for i in list_dataset:\n",
    "#     df = sns.load_dataset(i)\n",
    "#     print('Dữ liệu {}\\n'.format(i),df)\n",
    "#     df.info()\n",
    "# sns.set_theme()"
   ]
  },
  {
   "cell_type": "code",
   "execution_count": 6,
   "id": "c9b8e351",
   "metadata": {},
   "outputs": [],
   "source": [
    "df_iris = sns.load_dataset('iris')\n",
    "X = df_iris.drop(columns = ['species'])\n",
    "y = df_iris['species']\n",
    "x_train,x_test,y_train,y_test = train_test_split(X,y,test_size = 0.3,random_state = 10)"
   ]
  },
  {
   "cell_type": "markdown",
   "id": "be0166fe",
   "metadata": {},
   "source": [
    "# Heatmap"
   ]
  },
  {
   "cell_type": "code",
   "execution_count": null,
   "id": "5ded671c",
   "metadata": {},
   "outputs": [],
   "source": [
    "# sns.heatmap(df_tips.corr())"
   ]
  },
  {
   "cell_type": "code",
   "execution_count": 7,
   "id": "dd5d02a0",
   "metadata": {},
   "outputs": [
    {
     "data": {
      "text/html": [
       "<div>\n",
       "<style scoped>\n",
       "    .dataframe tbody tr th:only-of-type {\n",
       "        vertical-align: middle;\n",
       "    }\n",
       "\n",
       "    .dataframe tbody tr th {\n",
       "        vertical-align: top;\n",
       "    }\n",
       "\n",
       "    .dataframe thead th {\n",
       "        text-align: right;\n",
       "    }\n",
       "</style>\n",
       "<table border=\"1\" class=\"dataframe\">\n",
       "  <thead>\n",
       "    <tr style=\"text-align: right;\">\n",
       "      <th></th>\n",
       "      <th>sepal_length</th>\n",
       "      <th>sepal_width</th>\n",
       "      <th>petal_length</th>\n",
       "      <th>petal_width</th>\n",
       "    </tr>\n",
       "  </thead>\n",
       "  <tbody>\n",
       "    <tr>\n",
       "      <th>sepal_length</th>\n",
       "      <td>1.000000</td>\n",
       "      <td>-0.117570</td>\n",
       "      <td>0.871754</td>\n",
       "      <td>0.817941</td>\n",
       "    </tr>\n",
       "    <tr>\n",
       "      <th>sepal_width</th>\n",
       "      <td>-0.117570</td>\n",
       "      <td>1.000000</td>\n",
       "      <td>-0.428440</td>\n",
       "      <td>-0.366126</td>\n",
       "    </tr>\n",
       "    <tr>\n",
       "      <th>petal_length</th>\n",
       "      <td>0.871754</td>\n",
       "      <td>-0.428440</td>\n",
       "      <td>1.000000</td>\n",
       "      <td>0.962865</td>\n",
       "    </tr>\n",
       "    <tr>\n",
       "      <th>petal_width</th>\n",
       "      <td>0.817941</td>\n",
       "      <td>-0.366126</td>\n",
       "      <td>0.962865</td>\n",
       "      <td>1.000000</td>\n",
       "    </tr>\n",
       "  </tbody>\n",
       "</table>\n",
       "</div>"
      ],
      "text/plain": [
       "              sepal_length  sepal_width  petal_length  petal_width\n",
       "sepal_length      1.000000    -0.117570      0.871754     0.817941\n",
       "sepal_width      -0.117570     1.000000     -0.428440    -0.366126\n",
       "petal_length      0.871754    -0.428440      1.000000     0.962865\n",
       "petal_width       0.817941    -0.366126      0.962865     1.000000"
      ]
     },
     "execution_count": 7,
     "metadata": {},
     "output_type": "execute_result"
    }
   ],
   "source": [
    "# X.corr()"
   ]
  },
  {
   "cell_type": "markdown",
   "id": "8e0ef1ae",
   "metadata": {},
   "source": [
    "# Jointplot:\n",
    "+ Đơn biến, một phần nhỏ trong correlation"
   ]
  },
  {
   "cell_type": "code",
   "execution_count": 8,
   "id": "31aff17b",
   "metadata": {},
   "outputs": [],
   "source": [
    "# kind = ['hex','hist','kde','reg']\n",
    "# sns.jointplot(x='sepal_length',y='sepal_width',data=df_iris,hue='species')\n",
    "# sns.jointplot(x='sepal_length',y='petal_length',data=df_iris,hue='species')\n",
    "# sns.jointplot(x='sepal_length',y='petal_width',data=df_iris,hue='species')"
   ]
  },
  {
   "cell_type": "markdown",
   "id": "68638404",
   "metadata": {},
   "source": [
    "# Pairplot (Correlation)"
   ]
  },
  {
   "cell_type": "code",
   "execution_count": 9,
   "id": "6c6351f9",
   "metadata": {},
   "outputs": [],
   "source": [
    "# kind = ['scatter','hist','kde','reg']\n",
    "# diag_kind = ['auto','hist','kde','None']\n",
    "# sns.pairplot(df_iris,hue='species',kind='reg',diag_kind='kde')"
   ]
  },
  {
   "cell_type": "markdown",
   "id": "e427eb99",
   "metadata": {},
   "source": [
    "# Distplot (distribution)\n"
   ]
  },
  {
   "cell_type": "code",
   "execution_count": 10,
   "id": "d4e4ff94",
   "metadata": {},
   "outputs": [],
   "source": [
    "# kde = False\n",
    "# sns.distplot(df_iris['petal_width'],bins=30,color='y')"
   ]
  },
  {
   "cell_type": "markdown",
   "id": "674b7b99",
   "metadata": {},
   "source": [
    "# Countplot (groupby): Categorical"
   ]
  },
  {
   "cell_type": "code",
   "execution_count": 11,
   "id": "9694e6af",
   "metadata": {},
   "outputs": [],
   "source": [
    "# plt.figure(figsize=(20,10))\n",
    "# sns.set_theme(style=\"darkgrid\")\n",
    "# sns.countplot(data=df_iris,x='sepal_width',hue='species',palette='Set2')\n",
    "# plt.legend(loc='center right');"
   ]
  },
  {
   "cell_type": "markdown",
   "id": "d26bb414",
   "metadata": {},
   "source": [
    "# Barplot"
   ]
  },
  {
   "cell_type": "code",
   "execution_count": 12,
   "id": "cc998214",
   "metadata": {},
   "outputs": [],
   "source": [
    "# plt.figure(figsize=(30,10))\n",
    "# sns.set_theme(style=\"whitegrid\")\n",
    "# sns.barplot(y='sepal_width',x='sepal_length',data=df_iris,hue='species',estimator=np.std);"
   ]
  },
  {
   "cell_type": "markdown",
   "id": "ad2d3ce6",
   "metadata": {},
   "source": [
    "# Boxplot (outlier): IQR"
   ]
  },
  {
   "cell_type": "code",
   "execution_count": 13,
   "id": "e332f25d",
   "metadata": {},
   "outputs": [],
   "source": [
    "# sns.boxplot(x='sepal_length',y='species',data=df_iris,palette='rainbow',,palette='Blues',hue='');\n",
    "# # plt.boxplot(df_iris['sepal_width'],vert=False)"
   ]
  },
  {
   "cell_type": "markdown",
   "id": "2fdc36ae",
   "metadata": {},
   "source": [
    "# Violin plot (boxplot & distplot)"
   ]
  },
  {
   "cell_type": "code",
   "execution_count": 17,
   "id": "8e1bad20",
   "metadata": {},
   "outputs": [],
   "source": [
    "# plt.figure(figsize=(8,6))\n",
    "# sns.violinplot(x='sepal_length',y='species',data=df_iris);"
   ]
  },
  {
   "cell_type": "markdown",
   "id": "622b9731",
   "metadata": {},
   "source": [
    "# lmplot\n",
    "+ Một phần nhỏ của pairplot (kind='reg')"
   ]
  },
  {
   "cell_type": "code",
   "execution_count": 18,
   "id": "1066a520",
   "metadata": {},
   "outputs": [],
   "source": [
    "# sns.lmplot(y=\"sepal_width\",x=\"sepal_length\",hue=\"species\", data=df_iris,palette='rainbow');"
   ]
  },
  {
   "cell_type": "markdown",
   "id": "10f65c5f",
   "metadata": {},
   "source": [
    "# Stripplot (boxplot)"
   ]
  },
  {
   "cell_type": "code",
   "execution_count": 19,
   "id": "448cde59",
   "metadata": {},
   "outputs": [],
   "source": [
    "# sns.stripplot(x=\"species\",y=\"petal_length\",data=df_iris);"
   ]
  },
  {
   "cell_type": "markdown",
   "id": "1c3f5dc8",
   "metadata": {},
   "source": [
    "# Swarmplot\n",
    "+ Các điểm dữ liệu không trùng lặp"
   ]
  },
  {
   "cell_type": "code",
   "execution_count": 20,
   "id": "1fa73e67",
   "metadata": {},
   "outputs": [],
   "source": [
    "# sns.swarmplot(x=\"species\",y=\"petal_length\",data=df_iris);"
   ]
  },
  {
   "cell_type": "markdown",
   "id": "e886e35f",
   "metadata": {},
   "source": [
    "# Pointplot"
   ]
  },
  {
   "cell_type": "code",
   "execution_count": 22,
   "id": "0a1d0224",
   "metadata": {},
   "outputs": [],
   "source": [
    "# plt.figure(figsize=(10,6))\n",
    "# sns.pointplot(x='sepal_length',y='sepal_width',hue='species',data=df_iris);"
   ]
  },
  {
   "cell_type": "markdown",
   "id": "7f4ee1cb",
   "metadata": {},
   "source": [
    "# Regplot\n",
    "+ Giống jointplot (kind='reg') so sánh giữa 2 biến"
   ]
  },
  {
   "cell_type": "code",
   "execution_count": 24,
   "id": "94cd441c",
   "metadata": {},
   "outputs": [],
   "source": [
    "# sns.regplot(x=\"sepal_width\", y=\"sepal_length\", data=df_iris);"
   ]
  },
  {
   "cell_type": "markdown",
   "id": "b692edcb",
   "metadata": {},
   "source": [
    "# Histplot"
   ]
  },
  {
   "cell_type": "code",
   "execution_count": null,
   "id": "776aef05",
   "metadata": {},
   "outputs": [],
   "source": [
    "# sns.histplot(tips_df['total_bill'])"
   ]
  },
  {
   "cell_type": "markdown",
   "id": "59fa8a79",
   "metadata": {},
   "source": [
    "# KDE"
   ]
  },
  {
   "cell_type": "code",
   "execution_count": null,
   "id": "67edf236",
   "metadata": {},
   "outputs": [],
   "source": [
    "# sns.kdeplot(data=tips_df['total_bill'])"
   ]
  },
  {
   "cell_type": "markdown",
   "id": "6193f1c1",
   "metadata": {},
   "source": [
    "# Facet Grid: 3 dimensions (row,col,hue)"
   ]
  },
  {
   "cell_type": "code",
   "execution_count": null,
   "id": "a5aa8f71",
   "metadata": {},
   "outputs": [],
   "source": [
    "# tips_fg = sns.FacetGrid(data=tips_df,row='smoker',col='time')\n",
    "# tips_fg.map(sns.scatterplot,'total_bill','tip')"
   ]
  },
  {
   "cell_type": "code",
   "execution_count": null,
   "id": "6feeeb1c",
   "metadata": {},
   "outputs": [],
   "source": [
    "# kws = dict(s=100,edgecolor='b',alpha=0.5)\n",
    "# new_fg = sns.FacetGrid(data=tips_df,col='sex',hue='smoker',col_order=['Female','Male'],palette='Set2',height=4,aspect=1.4)\n",
    "# new_fg.map(sns.scatterplot,'total_bill','tip',**kws)\n",
    "# new_fg.add_legend()"
   ]
  },
  {
   "cell_type": "markdown",
   "id": "c519f539",
   "metadata": {},
   "source": [
    "# PRACTICE"
   ]
  },
  {
   "cell_type": "code",
   "execution_count": 6,
   "id": "3bcaf8a6",
   "metadata": {},
   "outputs": [
    {
     "data": {
      "text/html": [
       "<div>\n",
       "<style scoped>\n",
       "    .dataframe tbody tr th:only-of-type {\n",
       "        vertical-align: middle;\n",
       "    }\n",
       "\n",
       "    .dataframe tbody tr th {\n",
       "        vertical-align: top;\n",
       "    }\n",
       "\n",
       "    .dataframe thead th {\n",
       "        text-align: right;\n",
       "    }\n",
       "</style>\n",
       "<table border=\"1\" class=\"dataframe\">\n",
       "  <thead>\n",
       "    <tr style=\"text-align: right;\">\n",
       "      <th></th>\n",
       "      <th>name</th>\n",
       "      <th>mfr</th>\n",
       "      <th>type</th>\n",
       "      <th>calories</th>\n",
       "      <th>protein</th>\n",
       "      <th>fat</th>\n",
       "      <th>sodium</th>\n",
       "      <th>fiber</th>\n",
       "      <th>carbo</th>\n",
       "      <th>sugars</th>\n",
       "      <th>potass</th>\n",
       "      <th>vitamins</th>\n",
       "      <th>shelf</th>\n",
       "      <th>weight</th>\n",
       "      <th>cups</th>\n",
       "      <th>rating</th>\n",
       "    </tr>\n",
       "  </thead>\n",
       "  <tbody>\n",
       "    <tr>\n",
       "      <th>0</th>\n",
       "      <td>100% Bran</td>\n",
       "      <td>N</td>\n",
       "      <td>C</td>\n",
       "      <td>70</td>\n",
       "      <td>4</td>\n",
       "      <td>1</td>\n",
       "      <td>130</td>\n",
       "      <td>10.0</td>\n",
       "      <td>5.0</td>\n",
       "      <td>6</td>\n",
       "      <td>280</td>\n",
       "      <td>25</td>\n",
       "      <td>3</td>\n",
       "      <td>1.0</td>\n",
       "      <td>0.33</td>\n",
       "      <td>68.402973</td>\n",
       "    </tr>\n",
       "    <tr>\n",
       "      <th>1</th>\n",
       "      <td>100% Natural Bran</td>\n",
       "      <td>Q</td>\n",
       "      <td>C</td>\n",
       "      <td>120</td>\n",
       "      <td>3</td>\n",
       "      <td>5</td>\n",
       "      <td>15</td>\n",
       "      <td>2.0</td>\n",
       "      <td>8.0</td>\n",
       "      <td>8</td>\n",
       "      <td>135</td>\n",
       "      <td>0</td>\n",
       "      <td>3</td>\n",
       "      <td>1.0</td>\n",
       "      <td>1.00</td>\n",
       "      <td>33.983679</td>\n",
       "    </tr>\n",
       "    <tr>\n",
       "      <th>2</th>\n",
       "      <td>All-Bran</td>\n",
       "      <td>K</td>\n",
       "      <td>C</td>\n",
       "      <td>70</td>\n",
       "      <td>4</td>\n",
       "      <td>1</td>\n",
       "      <td>260</td>\n",
       "      <td>9.0</td>\n",
       "      <td>7.0</td>\n",
       "      <td>5</td>\n",
       "      <td>320</td>\n",
       "      <td>25</td>\n",
       "      <td>3</td>\n",
       "      <td>1.0</td>\n",
       "      <td>0.33</td>\n",
       "      <td>59.425505</td>\n",
       "    </tr>\n",
       "    <tr>\n",
       "      <th>3</th>\n",
       "      <td>All-Bran with Extra Fiber</td>\n",
       "      <td>K</td>\n",
       "      <td>C</td>\n",
       "      <td>50</td>\n",
       "      <td>4</td>\n",
       "      <td>0</td>\n",
       "      <td>140</td>\n",
       "      <td>14.0</td>\n",
       "      <td>8.0</td>\n",
       "      <td>0</td>\n",
       "      <td>330</td>\n",
       "      <td>25</td>\n",
       "      <td>3</td>\n",
       "      <td>1.0</td>\n",
       "      <td>0.50</td>\n",
       "      <td>93.704912</td>\n",
       "    </tr>\n",
       "    <tr>\n",
       "      <th>4</th>\n",
       "      <td>Almond Delight</td>\n",
       "      <td>R</td>\n",
       "      <td>C</td>\n",
       "      <td>110</td>\n",
       "      <td>2</td>\n",
       "      <td>2</td>\n",
       "      <td>200</td>\n",
       "      <td>1.0</td>\n",
       "      <td>14.0</td>\n",
       "      <td>8</td>\n",
       "      <td>-1</td>\n",
       "      <td>25</td>\n",
       "      <td>3</td>\n",
       "      <td>1.0</td>\n",
       "      <td>0.75</td>\n",
       "      <td>34.384843</td>\n",
       "    </tr>\n",
       "    <tr>\n",
       "      <th>...</th>\n",
       "      <td>...</td>\n",
       "      <td>...</td>\n",
       "      <td>...</td>\n",
       "      <td>...</td>\n",
       "      <td>...</td>\n",
       "      <td>...</td>\n",
       "      <td>...</td>\n",
       "      <td>...</td>\n",
       "      <td>...</td>\n",
       "      <td>...</td>\n",
       "      <td>...</td>\n",
       "      <td>...</td>\n",
       "      <td>...</td>\n",
       "      <td>...</td>\n",
       "      <td>...</td>\n",
       "      <td>...</td>\n",
       "    </tr>\n",
       "    <tr>\n",
       "      <th>72</th>\n",
       "      <td>Triples</td>\n",
       "      <td>G</td>\n",
       "      <td>C</td>\n",
       "      <td>110</td>\n",
       "      <td>2</td>\n",
       "      <td>1</td>\n",
       "      <td>250</td>\n",
       "      <td>0.0</td>\n",
       "      <td>21.0</td>\n",
       "      <td>3</td>\n",
       "      <td>60</td>\n",
       "      <td>25</td>\n",
       "      <td>3</td>\n",
       "      <td>1.0</td>\n",
       "      <td>0.75</td>\n",
       "      <td>39.106174</td>\n",
       "    </tr>\n",
       "    <tr>\n",
       "      <th>73</th>\n",
       "      <td>Trix</td>\n",
       "      <td>G</td>\n",
       "      <td>C</td>\n",
       "      <td>110</td>\n",
       "      <td>1</td>\n",
       "      <td>1</td>\n",
       "      <td>140</td>\n",
       "      <td>0.0</td>\n",
       "      <td>13.0</td>\n",
       "      <td>12</td>\n",
       "      <td>25</td>\n",
       "      <td>25</td>\n",
       "      <td>2</td>\n",
       "      <td>1.0</td>\n",
       "      <td>1.00</td>\n",
       "      <td>27.753301</td>\n",
       "    </tr>\n",
       "    <tr>\n",
       "      <th>74</th>\n",
       "      <td>Wheat Chex</td>\n",
       "      <td>R</td>\n",
       "      <td>C</td>\n",
       "      <td>100</td>\n",
       "      <td>3</td>\n",
       "      <td>1</td>\n",
       "      <td>230</td>\n",
       "      <td>3.0</td>\n",
       "      <td>17.0</td>\n",
       "      <td>3</td>\n",
       "      <td>115</td>\n",
       "      <td>25</td>\n",
       "      <td>1</td>\n",
       "      <td>1.0</td>\n",
       "      <td>0.67</td>\n",
       "      <td>49.787445</td>\n",
       "    </tr>\n",
       "    <tr>\n",
       "      <th>75</th>\n",
       "      <td>Wheaties</td>\n",
       "      <td>G</td>\n",
       "      <td>C</td>\n",
       "      <td>100</td>\n",
       "      <td>3</td>\n",
       "      <td>1</td>\n",
       "      <td>200</td>\n",
       "      <td>3.0</td>\n",
       "      <td>17.0</td>\n",
       "      <td>3</td>\n",
       "      <td>110</td>\n",
       "      <td>25</td>\n",
       "      <td>1</td>\n",
       "      <td>1.0</td>\n",
       "      <td>1.00</td>\n",
       "      <td>51.592193</td>\n",
       "    </tr>\n",
       "    <tr>\n",
       "      <th>76</th>\n",
       "      <td>Wheaties Honey Gold</td>\n",
       "      <td>G</td>\n",
       "      <td>C</td>\n",
       "      <td>110</td>\n",
       "      <td>2</td>\n",
       "      <td>1</td>\n",
       "      <td>200</td>\n",
       "      <td>1.0</td>\n",
       "      <td>16.0</td>\n",
       "      <td>8</td>\n",
       "      <td>60</td>\n",
       "      <td>25</td>\n",
       "      <td>1</td>\n",
       "      <td>1.0</td>\n",
       "      <td>0.75</td>\n",
       "      <td>36.187559</td>\n",
       "    </tr>\n",
       "  </tbody>\n",
       "</table>\n",
       "<p>77 rows × 16 columns</p>\n",
       "</div>"
      ],
      "text/plain": [
       "                         name mfr type  calories  protein  fat  sodium  fiber  \\\n",
       "0                   100% Bran   N    C        70        4    1     130   10.0   \n",
       "1           100% Natural Bran   Q    C       120        3    5      15    2.0   \n",
       "2                    All-Bran   K    C        70        4    1     260    9.0   \n",
       "3   All-Bran with Extra Fiber   K    C        50        4    0     140   14.0   \n",
       "4              Almond Delight   R    C       110        2    2     200    1.0   \n",
       "..                        ...  ..  ...       ...      ...  ...     ...    ...   \n",
       "72                    Triples   G    C       110        2    1     250    0.0   \n",
       "73                       Trix   G    C       110        1    1     140    0.0   \n",
       "74                 Wheat Chex   R    C       100        3    1     230    3.0   \n",
       "75                   Wheaties   G    C       100        3    1     200    3.0   \n",
       "76        Wheaties Honey Gold   G    C       110        2    1     200    1.0   \n",
       "\n",
       "    carbo  sugars  potass  vitamins  shelf  weight  cups     rating  \n",
       "0     5.0       6     280        25      3     1.0  0.33  68.402973  \n",
       "1     8.0       8     135         0      3     1.0  1.00  33.983679  \n",
       "2     7.0       5     320        25      3     1.0  0.33  59.425505  \n",
       "3     8.0       0     330        25      3     1.0  0.50  93.704912  \n",
       "4    14.0       8      -1        25      3     1.0  0.75  34.384843  \n",
       "..    ...     ...     ...       ...    ...     ...   ...        ...  \n",
       "72   21.0       3      60        25      3     1.0  0.75  39.106174  \n",
       "73   13.0      12      25        25      2     1.0  1.00  27.753301  \n",
       "74   17.0       3     115        25      1     1.0  0.67  49.787445  \n",
       "75   17.0       3     110        25      1     1.0  1.00  51.592193  \n",
       "76   16.0       8      60        25      1     1.0  0.75  36.187559  \n",
       "\n",
       "[77 rows x 16 columns]"
      ]
     },
     "execution_count": 6,
     "metadata": {},
     "output_type": "execute_result"
    }
   ],
   "source": [
    "cereal_df = pd.read_csv(r\"C:\\Users\\ADMIN\\Documents\\DATA SCIENCE\\Data\\PRACTICE\\cereal.csv\")\n",
    "cereal_df = cereal_df.drop(columns = ['shelf','weight','cups','rating'],axis=1)"
   ]
  },
  {
   "cell_type": "code",
   "execution_count": 31,
   "id": "531f04ce",
   "metadata": {},
   "outputs": [],
   "source": [
    "cereal_corr = cereal_df.corr()\n",
    "ones_corr = np.ones_like(cereal_corr)\n",
    "mask = np.triu(ones_corr)\n",
    "adjusted_mask = mask[1:,:-1]\n",
    "adjusted_cereal_corr = cereal_corr.iloc[1:,:-1]"
   ]
  },
  {
   "cell_type": "code",
   "execution_count": 34,
   "id": "6a0da300",
   "metadata": {},
   "outputs": [
    {
     "data": {
      "image/png": "[encoded data removed]",
      "text/plain": [
       "<Figure size 720x576 with 2 Axes>"
      ]
     },
     "metadata": {
      "needs_background": "light"
     },
     "output_type": "display_data"
    }
   ],
   "source": [
    "fig,ax = plt.subplots(figsize=(10,8))\n",
    "cmap = sns.diverging_palette(0,230,90,60,as_cmap=True)\n",
    "sns.heatmap(data=adjusted_cereal_corr,mask=adjusted_mask,annot=True,annot_kws={'fontsize':13},\n",
    "            fmt='.2f',cmap=cmap,vmin=-1,vmax=1,linecolor='white',linewidths=0.5)\n",
    "ysticks = [i.upper() for i in adjusted_cereal_corr.index]\n",
    "xsticks = [i.upper() for i in adjusted_cereal_corr.columns]\n",
    "ax.set_yticklabels(ysticks,rotation=0)\n",
    "ax.set_xticklabels(xsticks,rotation=0)\n",
    "ax.set_title('CORRELATION MATRIX\\nSAMPLED CEREALS COMPOSITION',loc='right',fontsize=20);"
   ]
  }
 ],
 "metadata": {
  "kernelspec": {
   "display_name": "Python 3 (ipykernel)",
   "language": "python",
   "name": "python3"
  },
  "language_info": {
   "codemirror_mode": {
    "name": "ipython",
    "version": 3
   },
   "file_extension": ".py",
   "mimetype": "text/x-python",
   "name": "python",
   "nbconvert_exporter": "python",
   "pygments_lexer": "ipython3",
   "version": "3.9.12"
  }
 },
 "nbformat": 4,
 "nbformat_minor": 5
}
