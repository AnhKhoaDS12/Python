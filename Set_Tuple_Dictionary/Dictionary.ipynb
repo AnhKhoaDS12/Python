{
 "cells": [
  {
   "cell_type": "markdown",
   "id": "540b9a34",
   "metadata": {},
   "source": [
    "+ Những cái gì độc nhất mới dùng dictionary (mã số ngân hàng)\n",
    "+ Key (độc nhất): bản chất là set\n",
    "+ Value (có thể lặp): bản chất là list\n",
    "+ {} là dictionary"
   ]
  },
  {
   "cell_type": "markdown",
   "id": "90421411",
   "metadata": {},
   "source": [
    "# PRACTICE 1"
   ]
  },
  {
   "cell_type": "code",
   "execution_count": 1,
   "id": "0a3c6d6d",
   "metadata": {},
   "outputs": [
    {
     "name": "stdout",
     "output_type": "stream",
     "text": [
      "Nhập mã sản phẩm: sp1\n"
     ]
    }
   ],
   "source": [
    "sp = input('Nhập mã sản phẩm: ').upper()"
   ]
  },
  {
   "cell_type": "code",
   "execution_count": 2,
   "id": "88676178",
   "metadata": {},
   "outputs": [],
   "source": [
    "datatong = {'SP1':{'name':'Bút Bi TL-027','price':4000},\n",
    "            'SP2':{'name':'Hộp thủy tinh hình chữ nhật đựng thức ăn','price':200000},\n",
    "            'SP3':{'name':'Bình giữ nhiệt Future Health Good Life','price':370000}}"
   ]
  },
  {
   "cell_type": "code",
   "execution_count": 3,
   "id": "ba76cd1c",
   "metadata": {},
   "outputs": [
    {
     "name": "stdout",
     "output_type": "stream",
     "text": [
      "Bút Bi TL-027\n"
     ]
    }
   ],
   "source": [
    "if sp in datatong:\n",
    "    print(datatong[sp]['name']) # còn nếu là list print(dsspp['a'][0])\n",
    "else:\n",
    "    print('Không tồn tại a')"
   ]
  },
  {
   "cell_type": "code",
   "execution_count": 4,
   "id": "c05f722e",
   "metadata": {},
   "outputs": [
    {
     "name": "stdout",
     "output_type": "stream",
     "text": [
      "Tổng giá tiền 3 sản phẩm 574000\n"
     ]
    }
   ],
   "source": [
    "tong = 0\n",
    "for key, value in datatong.items():\n",
    "    tong += value['price']\n",
    "print('Tổng giá tiền 3 sản phẩm',tong)"
   ]
  },
  {
   "cell_type": "markdown",
   "id": "9762ea7e",
   "metadata": {},
   "source": [
    "# PRACTICE 2 "
   ]
  },
  {
   "cell_type": "code",
   "execution_count": 6,
   "id": "79e2b6db",
   "metadata": {},
   "outputs": [
    {
     "name": "stdout",
     "output_type": "stream",
     "text": [
      "Nhập SDT: 0933294303\n"
     ]
    }
   ],
   "source": [
    "sdt = input('Nhập SDT: ')"
   ]
  },
  {
   "cell_type": "code",
   "execution_count": 7,
   "id": "cc6fe60c",
   "metadata": {},
   "outputs": [],
   "source": [
    "ds = {'0933294303': 'Chủ số này là Nguyễn Anh Khoa','0904546143': 'Chủ số cũ này là Nguyễn Anh Khoa',\n",
    "      '0909605482': 'Chủ số này là Nguyệt','0912345728': 'Chủ số này là Trang'}"
   ]
  },
  {
   "cell_type": "code",
   "execution_count": 8,
   "id": "cf0e3a4a",
   "metadata": {},
   "outputs": [
    {
     "data": {
      "text/plain": [
       "'Chủ số này là Nguyễn Anh Khoa'"
      ]
     },
     "execution_count": 8,
     "metadata": {},
     "output_type": "execute_result"
    }
   ],
   "source": [
    "kq = ds.get(sdt,'Không tồn tại')\n",
    "kq"
   ]
  },
  {
   "cell_type": "code",
   "execution_count": null,
   "id": "17f4a88f",
   "metadata": {},
   "outputs": [],
   "source": [
    "for key in ds.keys():\n",
    "    print(f'{key}')\n",
    "for value in ds.values():\n",
    "    print(f'{value}')\n",
    "for key, value in ds.items():\n",
    "    print(f'{key} {value}')"
   ]
  },
  {
   "cell_type": "markdown",
   "id": "de89c373",
   "metadata": {},
   "source": [
    "# PRACTICE 3"
   ]
  },
  {
   "cell_type": "code",
   "execution_count": 9,
   "id": "eb840503",
   "metadata": {},
   "outputs": [
    {
     "name": "stdout",
     "output_type": "stream",
     "text": [
      "Nhập TP: HCM\n",
      "['Quận 1', 'Quận 2']\n"
     ]
    }
   ],
   "source": [
    "tp = input('Nhập TP: ').upper()\n",
    "ds = {'HCM': ['Quận 1','Quận 2'],'DN': ['Quận Sơn Trà','Quận Hải Châu'],'HN': ['Quận Hoàn Kiếm','Quận Cầu Giấy']}\n",
    "print(ds.get(tp,'Không tồn tại'))"
   ]
  }
 ],
 "metadata": {
  "kernelspec": {
   "display_name": "Python 3 (ipykernel)",
   "language": "python",
   "name": "python3"
  },
  "language_info": {
   "codemirror_mode": {
    "name": "ipython",
    "version": 3
   },
   "file_extension": ".py",
   "mimetype": "text/x-python",
   "name": "python",
   "nbconvert_exporter": "python",
   "pygments_lexer": "ipython3",
   "version": "3.9.12"
  }
 },
 "nbformat": 4,
 "nbformat_minor": 5
}
