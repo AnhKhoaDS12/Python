{
 "cells": [
  {
   "cell_type": "code",
   "execution_count": 6,
   "id": "64af6e15",
   "metadata": {},
   "outputs": [],
   "source": [
    "a = 0.1234567\n",
    "b = 9.3345"
   ]
  },
  {
   "cell_type": "code",
   "execution_count": 3,
   "id": "ceabbd0d",
   "metadata": {},
   "outputs": [
    {
     "name": "stdout",
     "output_type": "stream",
     "text": [
      "33.3%\n"
     ]
    }
   ],
   "source": [
    "khoa = '{a:.1%}'.format(a=1/3)\n",
    "print(khoa)"
   ]
  },
  {
   "cell_type": "code",
   "execution_count": 4,
   "id": "26aa7976",
   "metadata": {},
   "outputs": [
    {
     "name": "stdout",
     "output_type": "stream",
     "text": [
      "33%\n"
     ]
    }
   ],
   "source": [
    "prob = 1/3\n",
    "print(f\"{prob:.0%}\")"
   ]
  },
  {
   "cell_type": "code",
   "execution_count": 8,
   "id": "5980770f",
   "metadata": {},
   "outputs": [
    {
     "name": "stdout",
     "output_type": "stream",
     "text": [
      "Kết quả: 12.3% , 933.450%\n"
     ]
    }
   ],
   "source": [
    "print('Kết quả: {:.1%} , {:.3%}'.format(a,b))"
   ]
  }
 ],
 "metadata": {
  "kernelspec": {
   "display_name": "Python 3 (ipykernel)",
   "language": "python",
   "name": "python3"
  },
  "language_info": {
   "codemirror_mode": {
    "name": "ipython",
    "version": 3
   },
   "file_extension": ".py",
   "mimetype": "text/x-python",
   "name": "python",
   "nbconvert_exporter": "python",
   "pygments_lexer": "ipython3",
   "version": "3.9.12"
  }
 },
 "nbformat": 4,
 "nbformat_minor": 5
}
