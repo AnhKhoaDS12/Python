{
 "cells": [
  {
   "cell_type": "markdown",
   "id": "339c7e78",
   "metadata": {},
   "source": [
    "# SET"
   ]
  },
  {
   "cell_type": "code",
   "execution_count": null,
   "id": "dbc942fb",
   "metadata": {},
   "outputs": [],
   "source": [
    "kq = set()"
   ]
  },
  {
   "cell_type": "code",
   "execution_count": 3,
   "id": "c80680ae",
   "metadata": {},
   "outputs": [
    {
     "data": {
      "text/plain": [
       "{1, 3, 4, 5, 6, 7, 8, 9}"
      ]
     },
     "execution_count": 3,
     "metadata": {},
     "output_type": "execute_result"
    }
   ],
   "source": [
    "a = [1,3,6,3,7,9,9,9,3,4,5,6,7,8]\n",
    "b = set(a)\n",
    "b"
   ]
  },
  {
   "cell_type": "code",
   "execution_count": 5,
   "id": "8d869f65",
   "metadata": {},
   "outputs": [
    {
     "data": {
      "text/plain": [
       "{1, 3, 4, 5, 6, 7, 8, 9, 'khoa'}"
      ]
     },
     "execution_count": 5,
     "metadata": {},
     "output_type": "execute_result"
    }
   ],
   "source": [
    "b.update(['khoa'])\n",
    "b"
   ]
  },
  {
   "cell_type": "markdown",
   "id": "b81cd07f",
   "metadata": {},
   "source": [
    "# TUPLE"
   ]
  },
  {
   "cell_type": "code",
   "execution_count": 8,
   "id": "4dc60525",
   "metadata": {},
   "outputs": [],
   "source": [
    "info = ('nguyen anh khoa','18DQF','kinh te luat','ĐH Tài Chính Marketing')"
   ]
  },
  {
   "cell_type": "code",
   "execution_count": 9,
   "id": "6329b2c5",
   "metadata": {},
   "outputs": [
    {
     "name": "stdout",
     "output_type": "stream",
     "text": [
      "nguyen anh khoa\n",
      "18DQF\n",
      "kinh te luat\n",
      "ĐH Tài Chính Marketing\n"
     ]
    }
   ],
   "source": [
    "for value in info:\n",
    "    print(value)"
   ]
  },
  {
   "cell_type": "code",
   "execution_count": 10,
   "id": "550deae1",
   "metadata": {},
   "outputs": [],
   "source": [
    "# a,b = b,a #b, a hiểu là (b,a): Tuple"
   ]
  },
  {
   "cell_type": "code",
   "execution_count": 11,
   "id": "9113c06f",
   "metadata": {},
   "outputs": [
    {
     "name": "stdout",
     "output_type": "stream",
     "text": [
      "1 2\n"
     ]
    }
   ],
   "source": [
    "x, y = 1, 2\n",
    "print(x,y)"
   ]
  },
  {
   "cell_type": "code",
   "execution_count": 13,
   "id": "b1ac3b7d",
   "metadata": {},
   "outputs": [],
   "source": [
    "khoa = (1,3,5,7)\n",
    "z,_,p,_ = khoa"
   ]
  },
  {
   "cell_type": "code",
   "execution_count": 14,
   "id": "4099666a",
   "metadata": {},
   "outputs": [
    {
     "name": "stdout",
     "output_type": "stream",
     "text": [
      "7\n"
     ]
    }
   ],
   "source": [
    "print(_)"
   ]
  },
  {
   "cell_type": "code",
   "execution_count": 15,
   "id": "bf1f6069",
   "metadata": {},
   "outputs": [
    {
     "name": "stdout",
     "output_type": "stream",
     "text": [
      "* * * * * \n",
      "* * * * * \n",
      "* * * * * \n",
      "* * * * * \n",
      "* * * * * \n"
     ]
    }
   ],
   "source": [
    "for _ in range(5):\n",
    "    print(5*'* ')"
   ]
  },
  {
   "cell_type": "code",
   "execution_count": 2,
   "id": "686c80fd",
   "metadata": {},
   "outputs": [],
   "source": [
    "# intersection\n",
    "# union()\n",
    "# A.difference()"
   ]
  }
 ],
 "metadata": {
  "kernelspec": {
   "display_name": "Python 3 (ipykernel)",
   "language": "python",
   "name": "python3"
  },
  "language_info": {
   "codemirror_mode": {
    "name": "ipython",
    "version": 3
   },
   "file_extension": ".py",
   "mimetype": "text/x-python",
   "name": "python",
   "nbconvert_exporter": "python",
   "pygments_lexer": "ipython3",
   "version": "3.9.12"
  }
 },
 "nbformat": 4,
 "nbformat_minor": 5
}
