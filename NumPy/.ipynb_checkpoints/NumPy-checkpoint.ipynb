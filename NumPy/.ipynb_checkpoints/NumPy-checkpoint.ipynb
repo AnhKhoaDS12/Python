{
 "cells": [
  {
   "cell_type": "code",
   "execution_count": 1,
   "id": "f8a1e6d0",
   "metadata": {},
   "outputs": [],
   "source": [
    "import pandas as pd,numpy as np,matplotlib.pyplot as plt,seaborn as sns,warnings,scipy.stats as stats,statistics as st\n",
    "warnings.filterwarnings('ignore')\n",
    "%matplotlib inline "
   ]
  },
  {
   "cell_type": "markdown",
   "id": "b1af1f52",
   "metadata": {},
   "source": [
    "# MEASURE OF CENTRAL TENDENCY"
   ]
  },
  {
   "cell_type": "code",
   "execution_count": 2,
   "id": "029b107e",
   "metadata": {},
   "outputs": [],
   "source": [
    "# np.mean()\n",
    "# np.median()\n",
    "# statistics.mode()\n",
    "# np.percentile(df['s'],[25,98])"
   ]
  },
  {
   "cell_type": "code",
   "execution_count": null,
   "id": "350a19ed",
   "metadata": {},
   "outputs": [],
   "source": [
    "# np.where(df['']=='Y',True,False)"
   ]
  },
  {
   "cell_type": "markdown",
   "id": "9210db8a",
   "metadata": {},
   "source": [
    "# MATRIX"
   ]
  },
  {
   "cell_type": "code",
   "execution_count": null,
   "id": "c92d9bc7",
   "metadata": {},
   "outputs": [],
   "source": [
    "# a.ravel(order='C/A/K')\n",
    "# a.flatten()"
   ]
  },
  {
   "cell_type": "code",
   "execution_count": null,
   "id": "96856669",
   "metadata": {},
   "outputs": [],
   "source": [
    "# a.reshape(x,y)\n",
    "# a.resize(x,y)"
   ]
  },
  {
   "cell_type": "code",
   "execution_count": null,
   "id": "caf2a6c8",
   "metadata": {},
   "outputs": [],
   "source": [
    "# ## 1D > 2D\n",
    "# # ROWS\n",
    "# A[newaxis,:]\n",
    "# # COLUMNS\n",
    "# A[:,newaxis]"
   ]
  },
  {
   "cell_type": "code",
   "execution_count": null,
   "id": "472c0693",
   "metadata": {},
   "outputs": [],
   "source": [
    "# np.split(x,3)\n",
    "# np.split(x,[3,5,6,10])\n",
    "# np.array_split(x,3)"
   ]
  },
  {
   "cell_type": "markdown",
   "id": "a3c45aa5",
   "metadata": {},
   "source": [
    "# RANDOM"
   ]
  },
  {
   "cell_type": "code",
   "execution_count": 2,
   "id": "71697f28",
   "metadata": {},
   "outputs": [],
   "source": [
    "# np.random.seed(0)\n",
    "# rng = np.randomRandomState(0)\n",
    "# %%time\n",
    "# a = np.random.random([3,4])\n",
    "# n2 = np.random.normal(0,1,(2,3))\n",
    "# b = np.random.rand(4,5)\n",
    "# n = np.random.randn(2,3)\n",
    "# c = np.random.beta(4,100,size=1000)\n",
    "# d = np.random.randint(0,5,10)\n",
    "# e = np.random.choice(5,3,replace=False)\n",
    "# f = np.random.choice(3,10,p=[.3,.6,.1])"
   ]
  },
  {
   "cell_type": "code",
   "execution_count": 3,
   "id": "5e915367",
   "metadata": {},
   "outputs": [],
   "source": [
    "x = np.array([1,2,3,4])\n",
    "y = np.array([5,6,7,8])"
   ]
  },
  {
   "cell_type": "code",
   "execution_count": 4,
   "id": "8ba2916f",
   "metadata": {},
   "outputs": [],
   "source": [
    "cumsum = np.cumsum([x,y],axis=0)\n",
    "add = np.add(x,y)"
   ]
  },
  {
   "cell_type": "code",
   "execution_count": 5,
   "id": "5240697c",
   "metadata": {},
   "outputs": [
    {
     "data": {
      "text/plain": [
       "array([[7.9, 7.9, 7.9, 7.9],\n",
       "       [7.9, 7.9, 7.9, 7.9]])"
      ]
     },
     "execution_count": 5,
     "metadata": {},
     "output_type": "execute_result"
    }
   ],
   "source": [
    "np.full([2,4],7.9)"
   ]
  },
  {
   "cell_type": "code",
   "execution_count": null,
   "id": "33f0afad",
   "metadata": {},
   "outputs": [],
   "source": [
    "# h = a.flatten(order='F')[:,np.newaxis].astype('object')"
   ]
  },
  {
   "cell_type": "markdown",
   "id": "1085be12",
   "metadata": {},
   "source": [
    "# LINEAR ALGEBRA"
   ]
  },
  {
   "cell_type": "code",
   "execution_count": null,
   "id": "7af09f80",
   "metadata": {},
   "outputs": [],
   "source": [
    "# np.ones((2,3))\n",
    "# np.zeros((2,3))\n",
    "# np.empty((2,3))"
   ]
  },
  {
   "cell_type": "code",
   "execution_count": null,
   "id": "5d66e1df",
   "metadata": {},
   "outputs": [],
   "source": [
    "# a@b@c\n",
    "# np.linalg.multi_dot([a,b,c])"
   ]
  },
  {
   "cell_type": "code",
   "execution_count": 6,
   "id": "98ae54a3",
   "metadata": {},
   "outputs": [
    {
     "data": {
      "text/plain": [
       "array([-4, -4, -4, -4])"
      ]
     },
     "execution_count": 6,
     "metadata": {},
     "output_type": "execute_result"
    }
   ],
   "source": [
    "# np.dot/@/np.matmul\n",
    "# np.add\n",
    "# np.subtract(x,y)\n",
    "# np.multiply(x,y)\n",
    "# np.divide(x,y)"
   ]
  },
  {
   "cell_type": "code",
   "execution_count": 7,
   "id": "39ac804e",
   "metadata": {},
   "outputs": [
    {
     "data": {
      "text/plain": [
       "array([[3, 0, 0],\n",
       "       [0, 5, 0],\n",
       "       [0, 0, 7]])"
      ]
     },
     "execution_count": 7,
     "metadata": {},
     "output_type": "execute_result"
    }
   ],
   "source": [
    "diag = np.diag([3,5,7])\n",
    "diag"
   ]
  },
  {
   "cell_type": "code",
   "execution_count": 8,
   "id": "f0f77d18",
   "metadata": {},
   "outputs": [
    {
     "data": {
      "text/plain": [
       "array([[1., 0., 0.],\n",
       "       [0., 1., 0.],\n",
       "       [0., 0., 1.]])"
      ]
     },
     "execution_count": 8,
     "metadata": {},
     "output_type": "execute_result"
    }
   ],
   "source": [
    "identity = np.identity(3)\n",
    "identity"
   ]
  },
  {
   "cell_type": "code",
   "execution_count": 9,
   "id": "60b03ce8",
   "metadata": {},
   "outputs": [
    {
     "data": {
      "text/plain": [
       "array([3, 5, 7])"
      ]
     },
     "execution_count": 9,
     "metadata": {},
     "output_type": "execute_result"
    }
   ],
   "source": [
    "diagonal = np.diagonal(diag)\n",
    "diagonal"
   ]
  },
  {
   "cell_type": "code",
   "execution_count": 10,
   "id": "9e6be5de",
   "metadata": {},
   "outputs": [
    {
     "data": {
      "text/plain": [
       "array([[3, 0, 0],\n",
       "       [0, 5, 0],\n",
       "       [0, 0, 7]])"
      ]
     },
     "execution_count": 10,
     "metadata": {},
     "output_type": "execute_result"
    }
   ],
   "source": [
    "triangle_upper = np.triu(diag)\n",
    "triangle_upper"
   ]
  },
  {
   "cell_type": "code",
   "execution_count": 11,
   "id": "1d3c7d40",
   "metadata": {},
   "outputs": [
    {
     "data": {
      "text/plain": [
       "104.99999999999997"
      ]
     },
     "execution_count": 11,
     "metadata": {},
     "output_type": "execute_result"
    }
   ],
   "source": [
    "determinant = np.linalg.det(diag)\n",
    "determinant"
   ]
  },
  {
   "cell_type": "code",
   "execution_count": 12,
   "id": "a1f83ab7",
   "metadata": {},
   "outputs": [
    {
     "data": {
      "text/plain": [
       "array([[0.33333333, 0.        , 0.        ],\n",
       "       [0.        , 0.2       , 0.        ],\n",
       "       [0.        , 0.        , 0.14285714]])"
      ]
     },
     "execution_count": 12,
     "metadata": {},
     "output_type": "execute_result"
    }
   ],
   "source": [
    "inverse = np.linalg.inv(diag)\n",
    "inverse"
   ]
  },
  {
   "cell_type": "code",
   "execution_count": null,
   "id": "d5017dcc",
   "metadata": {},
   "outputs": [],
   "source": [
    "# diag.T\n",
    "np.transpose(diag)"
   ]
  },
  {
   "cell_type": "code",
   "execution_count": 13,
   "id": "193cef24",
   "metadata": {},
   "outputs": [
    {
     "data": {
      "text/plain": [
       "array([[1., 0., 0.],\n",
       "       [0., 1., 0.],\n",
       "       [0., 0., 1.]])"
      ]
     },
     "execution_count": 13,
     "metadata": {},
     "output_type": "execute_result"
    }
   ],
   "source": [
    "np.multiply(diag,inverse)"
   ]
  },
  {
   "cell_type": "code",
   "execution_count": 14,
   "id": "fc380631",
   "metadata": {},
   "outputs": [
    {
     "data": {
      "text/plain": [
       "9.1104335791443"
      ]
     },
     "execution_count": 14,
     "metadata": {},
     "output_type": "execute_result"
    }
   ],
   "source": [
    "squared_sum = np.linalg.norm(diag)\n",
    "squared_sum"
   ]
  },
  {
   "cell_type": "markdown",
   "id": "bbf8b06f",
   "metadata": {},
   "source": [
    "# CREATE"
   ]
  },
  {
   "cell_type": "code",
   "execution_count": 15,
   "id": "30483403",
   "metadata": {},
   "outputs": [
    {
     "data": {
      "text/plain": [
       "array([[1., 2., 3.],\n",
       "       [4., 5., 6.]])"
      ]
     },
     "execution_count": 15,
     "metadata": {},
     "output_type": "execute_result"
    }
   ],
   "source": [
    "np.array([[1,2,3],[4,5,6]],dtype=float)"
   ]
  },
  {
   "cell_type": "code",
   "execution_count": 16,
   "id": "08182c97",
   "metadata": {},
   "outputs": [
    {
     "data": {
      "text/plain": [
       "array([ 2,  5,  8, 11, 14, 17, 20, 23, 26, 29, 32, 35, 38, 41, 44, 47, 50,\n",
       "       53, 56, 59, 62, 65, 68, 71, 74, 77, 80, 83, 86, 89, 92, 95, 98])"
      ]
     },
     "execution_count": 16,
     "metadata": {},
     "output_type": "execute_result"
    }
   ],
   "source": [
    "np.arange(2,100,3)"
   ]
  },
  {
   "cell_type": "code",
   "execution_count": 17,
   "id": "b5d6f576",
   "metadata": {},
   "outputs": [
    {
     "data": {
      "text/plain": [
       "array([  4.,  52., 100.])"
      ]
     },
     "execution_count": 17,
     "metadata": {},
     "output_type": "execute_result"
    }
   ],
   "source": [
    "np.linspace(4,100,3)"
   ]
  },
  {
   "cell_type": "code",
   "execution_count": 18,
   "id": "d26b32f2",
   "metadata": {},
   "outputs": [
    {
     "data": {
      "text/plain": [
       "array([[1, 2, 3, 4],\n",
       "       [5, 6, 7, 8]])"
      ]
     },
     "execution_count": 18,
     "metadata": {},
     "output_type": "execute_result"
    }
   ],
   "source": [
    "# row_stack = np.r_[x,y]\n",
    "np.vstack((x,y))"
   ]
  },
  {
   "cell_type": "code",
   "execution_count": 19,
   "id": "f6f872d0",
   "metadata": {},
   "outputs": [
    {
     "data": {
      "text/plain": [
       "array([1, 2, 3, 4, 5, 6, 7, 8])"
      ]
     },
     "execution_count": 19,
     "metadata": {},
     "output_type": "execute_result"
    }
   ],
   "source": [
    "np.hstack((x,y))"
   ]
  },
  {
   "cell_type": "code",
   "execution_count": 20,
   "id": "6d18883f",
   "metadata": {},
   "outputs": [
    {
     "data": {
      "text/plain": [
       "array([[1, 5],\n",
       "       [2, 6],\n",
       "       [3, 7],\n",
       "       [4, 8]])"
      ]
     },
     "execution_count": 20,
     "metadata": {},
     "output_type": "execute_result"
    }
   ],
   "source": [
    "# column_stack = np.c_[x,y]\n",
    "np.column_stack((x,y))"
   ]
  },
  {
   "cell_type": "code",
   "execution_count": 21,
   "id": "0b49aeee",
   "metadata": {},
   "outputs": [
    {
     "data": {
      "text/plain": [
       "[12, 2000]"
      ]
     },
     "execution_count": 21,
     "metadata": {},
     "output_type": "execute_result"
    }
   ],
   "source": [
    "lst = [12,7,2000]\n",
    "list(filter(lambda x:x%2==0,lst))"
   ]
  },
  {
   "cell_type": "code",
   "execution_count": 22,
   "id": "52b9959d",
   "metadata": {},
   "outputs": [],
   "source": [
    "# even = list(filter(lambda x:x%2==0,list_age))"
   ]
  },
  {
   "cell_type": "markdown",
   "id": "e9e8eed7",
   "metadata": {},
   "source": [
    "# COVARIANCE"
   ]
  },
  {
   "cell_type": "code",
   "execution_count": 23,
   "id": "2f01f21b",
   "metadata": {},
   "outputs": [],
   "source": [
    "x = [-2.1,-1,4.3]\n",
    "y = [3,1.1,.12]"
   ]
  },
  {
   "cell_type": "code",
   "execution_count": 24,
   "id": "ad78d79a",
   "metadata": {},
   "outputs": [
    {
     "data": {
      "text/plain": [
       "-2.8573333333333335"
      ]
     },
     "execution_count": 24,
     "metadata": {},
     "output_type": "execute_result"
    }
   ],
   "source": [
    "covariance = np.cov(x,y,bias=True)[0][1]\n",
    "covariance"
   ]
  },
  {
   "cell_type": "code",
   "execution_count": 25,
   "id": "19c45544",
   "metadata": {},
   "outputs": [
    {
     "data": {
      "text/plain": [
       "7.806666666666666"
      ]
     },
     "execution_count": 25,
     "metadata": {},
     "output_type": "execute_result"
    }
   ],
   "source": [
    "# np.cov(x,y,bias=True)[0][0]\n",
    "np.var(x)"
   ]
  },
  {
   "cell_type": "code",
   "execution_count": 26,
   "id": "5fe9edde",
   "metadata": {},
   "outputs": [
    {
     "data": {
      "text/plain": [
       "1.4294222222222224"
      ]
     },
     "execution_count": 26,
     "metadata": {},
     "output_type": "execute_result"
    }
   ],
   "source": [
    "# np.cov(x,y,bias=True)[1][1]\n",
    "np.var(y)"
   ]
  },
  {
   "cell_type": "markdown",
   "id": "36784e8f",
   "metadata": {},
   "source": [
    "# CORRELATION & SPEARMAN"
   ]
  },
  {
   "cell_type": "code",
   "execution_count": 27,
   "id": "c5b528e5",
   "metadata": {},
   "outputs": [
    {
     "data": {
      "text/plain": [
       "-0.8553578095227946"
      ]
     },
     "execution_count": 27,
     "metadata": {},
     "output_type": "execute_result"
    }
   ],
   "source": [
    "correlation = (np.cov(x,y,bias=True)[0][1])/(np.std(x)*np.std(y))\n",
    "correlation"
   ]
  },
  {
   "cell_type": "code",
   "execution_count": 28,
   "id": "599c1928",
   "metadata": {},
   "outputs": [
    {
     "data": {
      "text/plain": [
       "array([[ 1.        , -0.85535781],\n",
       "       [-0.85535781,  1.        ]])"
      ]
     },
     "execution_count": 28,
     "metadata": {},
     "output_type": "execute_result"
    }
   ],
   "source": [
    "np.corrcoef(x,y)"
   ]
  },
  {
   "cell_type": "code",
   "execution_count": 29,
   "id": "286fcbc2",
   "metadata": {},
   "outputs": [
    {
     "data": {
      "text/plain": [
       "-0.8553578095227946"
      ]
     },
     "execution_count": 29,
     "metadata": {},
     "output_type": "execute_result"
    }
   ],
   "source": [
    "stats.pearsonr(x,y)[0]"
   ]
  },
  {
   "cell_type": "code",
   "execution_count": 30,
   "id": "b9a7170a",
   "metadata": {},
   "outputs": [
    {
     "data": {
      "text/plain": [
       "-1.0"
      ]
     },
     "execution_count": 30,
     "metadata": {},
     "output_type": "execute_result"
    }
   ],
   "source": [
    "stats.spearmanr(x,y)[0]"
   ]
  },
  {
   "cell_type": "code",
   "execution_count": 31,
   "id": "797f18e2",
   "metadata": {},
   "outputs": [],
   "source": [
    "# corr in pandas\n",
    "# x.corr(y) = pearman\n",
    "# x.corr(y,method='spearman')"
   ]
  },
  {
   "cell_type": "markdown",
   "id": "dcd8daf7",
   "metadata": {},
   "source": [
    "# MODE"
   ]
  },
  {
   "cell_type": "code",
   "execution_count": 32,
   "id": "b37e91c4",
   "metadata": {},
   "outputs": [
    {
     "data": {
      "text/plain": [
       "[2, 3, 8]"
      ]
     },
     "execution_count": 32,
     "metadata": {},
     "output_type": "execute_result"
    }
   ],
   "source": [
    "a = [1,2,3,4,5,6,7,8,8,8,2,2,3,3]\n",
    "st.multimode(a)"
   ]
  },
  {
   "cell_type": "markdown",
   "id": "01a1bffb",
   "metadata": {},
   "source": [
    "# FINDING OUTLIER"
   ]
  },
  {
   "cell_type": "markdown",
   "id": "a99c8d56",
   "metadata": {},
   "source": [
    "+ Using scatter plots\n",
    "+ Box plot\n",
    "+ Using z-core: normal distribution\n",
    "+ Using IQR (Interquartile Range)"
   ]
  },
  {
   "cell_type": "code",
   "execution_count": 33,
   "id": "3f25c975",
   "metadata": {},
   "outputs": [],
   "source": [
    "dataset = [11,10,12,14,12,15,14,13,15,102,12,14,17,19,107,10,13,12,14,12,108,12,11,14,12,15,16,19,23,12,15,17,12,200]"
   ]
  },
  {
   "cell_type": "code",
   "execution_count": 34,
   "id": "0c97e007",
   "metadata": {
    "scrolled": true
   },
   "outputs": [
    {
     "data": {
      "image/png": "[encoded data removed]",
      "text/plain": [
       "<Figure size 432x288 with 1 Axes>"
      ]
     },
     "metadata": {
      "needs_background": "light"
     },
     "output_type": "display_data"
    }
   ],
   "source": [
    "# NOT NORMAL DISTRIBUTION\n",
    "sns.boxplot(dataset);"
   ]
  },
  {
   "cell_type": "code",
   "execution_count": 35,
   "id": "cb998bac",
   "metadata": {},
   "outputs": [
    {
     "data": {
      "image/png": "[encoded data removed]",
      "text/plain": [
       "<Figure size 432x288 with 1 Axes>"
      ]
     },
     "metadata": {
      "needs_background": "light"
     },
     "output_type": "display_data"
    }
   ],
   "source": [
    "# NORMAL DISTRIBUTION\n",
    "plt.hist(dataset,bins=10);"
   ]
  },
  {
   "cell_type": "code",
   "execution_count": 36,
   "id": "105b99ac",
   "metadata": {
    "scrolled": true
   },
   "outputs": [
    {
     "data": {
      "text/plain": [
       "[200]"
      ]
     },
     "execution_count": 36,
     "metadata": {},
     "output_type": "execute_result"
    }
   ],
   "source": [
    "def detect_outlier_zcore(data):\n",
    "    thresh = 3\n",
    "    mean = np.mean(data)\n",
    "    std = np.std(data)\n",
    "    outlier = []\n",
    "    for i in data:\n",
    "        if np.abs((i-mean)/std) > thresh:\n",
    "            outlier.append(i)\n",
    "    return outlier\n",
    "\n",
    "detect_outlier_zcore(dataset)"
   ]
  },
  {
   "cell_type": "code",
   "execution_count": 37,
   "id": "160929c9",
   "metadata": {},
   "outputs": [
    {
     "data": {
      "text/plain": [
       "[102, 107, 108, 200]"
      ]
     },
     "execution_count": 37,
     "metadata": {},
     "output_type": "execute_result"
    }
   ],
   "source": [
    "def detect_outlier_iqr(data):\n",
    "    quantile1,quantile3 = np.percentile(data,[25,75])\n",
    "    iqr_value = quantile3-quantile1\n",
    "    lower_bound_val = quantile1-(1.5*iqr_value)\n",
    "    upper_bound_val = quantile3+(1.5*iqr_value)\n",
    "\n",
    "    outlier = []\n",
    "    for i in data:\n",
    "        if i > upper_bound_val or i < lower_bound_val:\n",
    "            outlier.append(i)\n",
    "    return outlier\n",
    "detect_outlier_iqr(dataset)"
   ]
  },
  {
   "cell_type": "code",
   "execution_count": 38,
   "id": "6b6df40f",
   "metadata": {},
   "outputs": [],
   "source": [
    "# min_thresold, max_thresold = df.price_per_sqft.quantile([0.001, 0.999])\n",
    "# df[df.price_per_sqft < min_thresold]\n",
    "# df[df.price_per_sqft > max_thresold]\n",
    "# df2 = df[(df.price_per_sqft<max_thresold) & (df.price_per_sqft>min_thresold)]"
   ]
  },
  {
   "cell_type": "markdown",
   "id": "f137539f",
   "metadata": {},
   "source": [
    "# ZCORE"
   ]
  },
  {
   "cell_type": "code",
   "execution_count": 39,
   "id": "d803b38e",
   "metadata": {},
   "outputs": [
    {
     "data": {
      "image/png": "[encoded data removed]",
      "text/plain": [
       "<Figure size 432x288 with 1 Axes>"
      ]
     },
     "metadata": {
      "needs_background": "light"
     },
     "output_type": "display_data"
    }
   ],
   "source": [
    "data = np.array([6, 7, 7, 12,13, 13,15, 16, 19, 22])\n",
    "data_transform = stats.zscore(data)\n",
    "sns.distplot(data_transform);"
   ]
  }
 ],
 "metadata": {
  "kernelspec": {
   "display_name": "Python 3 (ipykernel)",
   "language": "python",
   "name": "python3"
  },
  "language_info": {
   "codemirror_mode": {
    "name": "ipython",
    "version": 3
   },
   "file_extension": ".py",
   "mimetype": "text/x-python",
   "name": "python",
   "nbconvert_exporter": "python",
   "pygments_lexer": "ipython3",
   "version": "3.9.12"
  }
 },
 "nbformat": 4,
 "nbformat_minor": 5
}
