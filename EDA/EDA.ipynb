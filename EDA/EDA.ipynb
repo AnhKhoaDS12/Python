{
 "cells": [
  {
   "cell_type": "code",
   "execution_count": 1,
   "id": "0d0a8580",
   "metadata": {},
   "outputs": [],
   "source": [
    "import pandas as pd,numpy as np,matplotlib.pyplot as plt,seaborn as sns,warnings\n",
    "warnings.filterwarnings('ignore')\n",
    "%matplotlib inline"
   ]
  },
  {
   "cell_type": "code",
   "execution_count": 2,
   "id": "7798bfff",
   "metadata": {},
   "outputs": [],
   "source": [
    "df_hp = pd.read_csv(r\"C:\\Users\\ADMIN\\Documents\\Data_Science\\Data\\House_price_train.csv\")\n",
    "df_hp.drop(['Id'],axis=1,inplace=True)"
   ]
  },
  {
   "cell_type": "markdown",
   "id": "b08305db",
   "metadata": {},
   "source": [
    "# FUNCTION"
   ]
  },
  {
   "cell_type": "code",
   "execution_count": 3,
   "id": "fb459117",
   "metadata": {},
   "outputs": [],
   "source": [
    "def Missing(df,features):\n",
    "    for feature in features:\n",
    "        print('{}: {:.1%} missing values'.format(feature,df[feature].isnull().mean()))"
   ]
  },
  {
   "cell_type": "code",
   "execution_count": 4,
   "id": "785aa4f5",
   "metadata": {},
   "outputs": [],
   "source": [
    "def Calculate(df,features):\n",
    "    for feature in features:\n",
    "        df[feature] = np.where(df[feature].isnull(),1,0)\n",
    "        df.groupby(feature)['SalePrice'].median().plot.bar()\n",
    "        plt.title(feature)"
   ]
  },
  {
   "cell_type": "markdown",
   "id": "2e018722",
   "metadata": {},
   "source": [
    "# DATA TYPES (Numerical & Categorical)"
   ]
  },
  {
   "cell_type": "code",
   "execution_count": 5,
   "id": "7949890d",
   "metadata": {},
   "outputs": [],
   "source": [
    "numerical = [feature_numerical for feature_numerical in df_hp.columns if df_hp[feature_numerical].dtype != 'O']\n",
    "year = [feature for feature in numerical if 'Y' in feature]\n",
    "discrete = [feature for feature in numerical if df_hp[feature].nunique()<25 and feature not in year]\n",
    "continuous = [feature for feature in numerical if feature not in discrete + year]\n",
    "categorical = [feature for feature in df_hp.columns if df_hp[feature].dtype=='O']"
   ]
  },
  {
   "cell_type": "markdown",
   "id": "613a375f",
   "metadata": {},
   "source": [
    "# MISSING VALUES of (Numerical & Categorical)"
   ]
  },
  {
   "cell_type": "code",
   "execution_count": 6,
   "id": "20e67761",
   "metadata": {},
   "outputs": [],
   "source": [
    "na_numerical = [name for name in numerical if df_hp[name].isnull().sum()>0]\n",
    "na_categorical = [name for name in categorical if df_hp[name].isnull().sum()>0]"
   ]
  },
  {
   "cell_type": "code",
   "execution_count": null,
   "id": "26bd82b7",
   "metadata": {},
   "outputs": [],
   "source": [
    "Missing(df_hp,na_numerical)\n",
    "Missing(df_hp,na_categorical)"
   ]
  },
  {
   "cell_type": "markdown",
   "id": "51e50662",
   "metadata": {},
   "source": [
    "# HIGH CARDINALITY"
   ]
  },
  {
   "cell_type": "code",
   "execution_count": 7,
   "id": "6f84c284",
   "metadata": {},
   "outputs": [],
   "source": [
    "high_cardinality = [feature for feature in categorical if df_hp[feature].nunique()>8]\n",
    "Calculate(df_hp,na_numerical)\n",
    "Calculate(df_hp,na_categorical)"
   ]
  },
  {
   "cell_type": "markdown",
   "id": "d35446be",
   "metadata": {},
   "source": [
    "# ANALYSIS"
   ]
  },
  {
   "cell_type": "code",
   "execution_count": 8,
   "id": "124011a7",
   "metadata": {},
   "outputs": [],
   "source": [
    "for feature in year:\n",
    "    if feature != 'YrSold':\n",
    "        data = df_hp.copy()\n",
    "        data[feature] = data['YrSold']-data[feature]\n",
    "        plt.scatter(data[feature],data['SalePrice'])\n",
    "        plt.xlabel(feature)\n",
    "        plt.ylabel('Sale Price')"
   ]
  },
  {
   "cell_type": "code",
   "execution_count": 2,
   "id": "885e3f77",
   "metadata": {},
   "outputs": [],
   "source": [
    "df_hp['YrSold'].astype(str)\n",
    "df_hp.groupby('YrSold')['SalePrice'].median().plot()\n",
    "plt.title('Prices sell of each year ')\n",
    "plt.xlabel('Year')\n",
    "plt.ylabel('Price House');"
   ]
  },
  {
   "cell_type": "markdown",
   "id": "eaa5ea7a",
   "metadata": {},
   "source": [
    "# Visualization (Discrete & Continuous)\n",
    "+ Discrete (bar plot)\n",
    "+ Continuos (histogram)"
   ]
  },
  {
   "cell_type": "code",
   "execution_count": 10,
   "id": "ad29f0b2",
   "metadata": {
    "scrolled": true
   },
   "outputs": [],
   "source": [
    "for featuree in discrete:\n",
    "    data = df_hp.copy()\n",
    "    data.groupby(featuree)['SalePrice'].median().plot.bar()\n",
    "    plt.xlabel(featuree)\n",
    "    plt.ylabel('House Prices')\n",
    "    plt.show()"
   ]
  },
  {
   "cell_type": "code",
   "execution_count": 11,
   "id": "45fa8e93",
   "metadata": {},
   "outputs": [],
   "source": [
    "for feature in continuous:\n",
    "    data = df_hp.copy()\n",
    "    data[feature].hist(bins=30)\n",
    "    plt.title(feature)\n",
    "    plt.ylabel('Count')"
   ]
  },
  {
   "cell_type": "markdown",
   "id": "c1b576f1",
   "metadata": {},
   "source": [
    "# CATEGORICAL"
   ]
  },
  {
   "cell_type": "code",
   "execution_count": 14,
   "id": "7751d594",
   "metadata": {},
   "outputs": [],
   "source": [
    "for feature in categorical:\n",
    "    data = df_hp.copy()\n",
    "    data.groupby(feature)['SalePrice'].median().plot.bar()"
   ]
  },
  {
   "cell_type": "markdown",
   "id": "66541ac4",
   "metadata": {},
   "source": [
    "# PRACTICE 1: Flight Price Prediction Dataset"
   ]
  },
  {
   "cell_type": "code",
   "execution_count": 16,
   "id": "a9663f21",
   "metadata": {},
   "outputs": [
    {
     "data": {
      "text/html": [
       "<div>\n",
       "<style scoped>\n",
       "    .dataframe tbody tr th:only-of-type {\n",
       "        vertical-align: middle;\n",
       "    }\n",
       "\n",
       "    .dataframe tbody tr th {\n",
       "        vertical-align: top;\n",
       "    }\n",
       "\n",
       "    .dataframe thead th {\n",
       "        text-align: right;\n",
       "    }\n",
       "</style>\n",
       "<table border=\"1\" class=\"dataframe\">\n",
       "  <thead>\n",
       "    <tr style=\"text-align: right;\">\n",
       "      <th></th>\n",
       "      <th>Airline</th>\n",
       "      <th>Date_of_Journey</th>\n",
       "      <th>Source</th>\n",
       "      <th>Destination</th>\n",
       "      <th>Route</th>\n",
       "      <th>Dep_Time</th>\n",
       "      <th>Arrival_Time</th>\n",
       "      <th>Duration</th>\n",
       "      <th>Total_Stops</th>\n",
       "      <th>Additional_Info</th>\n",
       "      <th>Price</th>\n",
       "    </tr>\n",
       "  </thead>\n",
       "  <tbody>\n",
       "    <tr>\n",
       "      <th>0</th>\n",
       "      <td>IndiGo</td>\n",
       "      <td>24/03/2019</td>\n",
       "      <td>Banglore</td>\n",
       "      <td>New Delhi</td>\n",
       "      <td>BLR → DEL</td>\n",
       "      <td>22:20</td>\n",
       "      <td>01:10 22 Mar</td>\n",
       "      <td>2h 50m</td>\n",
       "      <td>non-stop</td>\n",
       "      <td>No info</td>\n",
       "      <td>3897.0</td>\n",
       "    </tr>\n",
       "    <tr>\n",
       "      <th>1</th>\n",
       "      <td>Air India</td>\n",
       "      <td>1/05/2019</td>\n",
       "      <td>Kolkata</td>\n",
       "      <td>Banglore</td>\n",
       "      <td>CCU → IXR → BBI → BLR</td>\n",
       "      <td>05:50</td>\n",
       "      <td>13:15</td>\n",
       "      <td>7h 25m</td>\n",
       "      <td>2 stops</td>\n",
       "      <td>No info</td>\n",
       "      <td>7662.0</td>\n",
       "    </tr>\n",
       "    <tr>\n",
       "      <th>2</th>\n",
       "      <td>Jet Airways</td>\n",
       "      <td>9/06/2019</td>\n",
       "      <td>Delhi</td>\n",
       "      <td>Cochin</td>\n",
       "      <td>DEL → LKO → BOM → COK</td>\n",
       "      <td>09:25</td>\n",
       "      <td>04:25 10 Jun</td>\n",
       "      <td>19h</td>\n",
       "      <td>2 stops</td>\n",
       "      <td>No info</td>\n",
       "      <td>13882.0</td>\n",
       "    </tr>\n",
       "    <tr>\n",
       "      <th>3</th>\n",
       "      <td>IndiGo</td>\n",
       "      <td>12/05/2019</td>\n",
       "      <td>Kolkata</td>\n",
       "      <td>Banglore</td>\n",
       "      <td>CCU → NAG → BLR</td>\n",
       "      <td>18:05</td>\n",
       "      <td>23:30</td>\n",
       "      <td>5h 25m</td>\n",
       "      <td>1 stop</td>\n",
       "      <td>No info</td>\n",
       "      <td>6218.0</td>\n",
       "    </tr>\n",
       "    <tr>\n",
       "      <th>4</th>\n",
       "      <td>IndiGo</td>\n",
       "      <td>01/03/2019</td>\n",
       "      <td>Banglore</td>\n",
       "      <td>New Delhi</td>\n",
       "      <td>BLR → NAG → DEL</td>\n",
       "      <td>16:50</td>\n",
       "      <td>21:35</td>\n",
       "      <td>4h 45m</td>\n",
       "      <td>1 stop</td>\n",
       "      <td>No info</td>\n",
       "      <td>13302.0</td>\n",
       "    </tr>\n",
       "    <tr>\n",
       "      <th>...</th>\n",
       "      <td>...</td>\n",
       "      <td>...</td>\n",
       "      <td>...</td>\n",
       "      <td>...</td>\n",
       "      <td>...</td>\n",
       "      <td>...</td>\n",
       "      <td>...</td>\n",
       "      <td>...</td>\n",
       "      <td>...</td>\n",
       "      <td>...</td>\n",
       "      <td>...</td>\n",
       "    </tr>\n",
       "    <tr>\n",
       "      <th>2666</th>\n",
       "      <td>Air India</td>\n",
       "      <td>6/06/2019</td>\n",
       "      <td>Kolkata</td>\n",
       "      <td>Banglore</td>\n",
       "      <td>CCU → DEL → BLR</td>\n",
       "      <td>20:30</td>\n",
       "      <td>20:25 07 Jun</td>\n",
       "      <td>23h 55m</td>\n",
       "      <td>1 stop</td>\n",
       "      <td>No info</td>\n",
       "      <td>NaN</td>\n",
       "    </tr>\n",
       "    <tr>\n",
       "      <th>2667</th>\n",
       "      <td>IndiGo</td>\n",
       "      <td>27/03/2019</td>\n",
       "      <td>Kolkata</td>\n",
       "      <td>Banglore</td>\n",
       "      <td>CCU → BLR</td>\n",
       "      <td>14:20</td>\n",
       "      <td>16:55</td>\n",
       "      <td>2h 35m</td>\n",
       "      <td>non-stop</td>\n",
       "      <td>No info</td>\n",
       "      <td>NaN</td>\n",
       "    </tr>\n",
       "    <tr>\n",
       "      <th>2668</th>\n",
       "      <td>Jet Airways</td>\n",
       "      <td>6/03/2019</td>\n",
       "      <td>Delhi</td>\n",
       "      <td>Cochin</td>\n",
       "      <td>DEL → BOM → COK</td>\n",
       "      <td>21:50</td>\n",
       "      <td>04:25 07 Mar</td>\n",
       "      <td>6h 35m</td>\n",
       "      <td>1 stop</td>\n",
       "      <td>No info</td>\n",
       "      <td>NaN</td>\n",
       "    </tr>\n",
       "    <tr>\n",
       "      <th>2669</th>\n",
       "      <td>Air India</td>\n",
       "      <td>6/03/2019</td>\n",
       "      <td>Delhi</td>\n",
       "      <td>Cochin</td>\n",
       "      <td>DEL → BOM → COK</td>\n",
       "      <td>04:00</td>\n",
       "      <td>19:15</td>\n",
       "      <td>15h 15m</td>\n",
       "      <td>1 stop</td>\n",
       "      <td>No info</td>\n",
       "      <td>NaN</td>\n",
       "    </tr>\n",
       "    <tr>\n",
       "      <th>2670</th>\n",
       "      <td>Multiple carriers</td>\n",
       "      <td>15/06/2019</td>\n",
       "      <td>Delhi</td>\n",
       "      <td>Cochin</td>\n",
       "      <td>DEL → BOM → COK</td>\n",
       "      <td>04:55</td>\n",
       "      <td>19:15</td>\n",
       "      <td>14h 20m</td>\n",
       "      <td>1 stop</td>\n",
       "      <td>No info</td>\n",
       "      <td>NaN</td>\n",
       "    </tr>\n",
       "  </tbody>\n",
       "</table>\n",
       "<p>13354 rows × 11 columns</p>\n",
       "</div>"
      ],
      "text/plain": [
       "                Airline Date_of_Journey    Source Destination  \\\n",
       "0                IndiGo      24/03/2019  Banglore   New Delhi   \n",
       "1             Air India       1/05/2019   Kolkata    Banglore   \n",
       "2           Jet Airways       9/06/2019     Delhi      Cochin   \n",
       "3                IndiGo      12/05/2019   Kolkata    Banglore   \n",
       "4                IndiGo      01/03/2019  Banglore   New Delhi   \n",
       "...                 ...             ...       ...         ...   \n",
       "2666          Air India       6/06/2019   Kolkata    Banglore   \n",
       "2667             IndiGo      27/03/2019   Kolkata    Banglore   \n",
       "2668        Jet Airways       6/03/2019     Delhi      Cochin   \n",
       "2669          Air India       6/03/2019     Delhi      Cochin   \n",
       "2670  Multiple carriers      15/06/2019     Delhi      Cochin   \n",
       "\n",
       "                      Route Dep_Time  Arrival_Time Duration Total_Stops  \\\n",
       "0                 BLR → DEL    22:20  01:10 22 Mar   2h 50m    non-stop   \n",
       "1     CCU → IXR → BBI → BLR    05:50         13:15   7h 25m     2 stops   \n",
       "2     DEL → LKO → BOM → COK    09:25  04:25 10 Jun      19h     2 stops   \n",
       "3           CCU → NAG → BLR    18:05         23:30   5h 25m      1 stop   \n",
       "4           BLR → NAG → DEL    16:50         21:35   4h 45m      1 stop   \n",
       "...                     ...      ...           ...      ...         ...   \n",
       "2666        CCU → DEL → BLR    20:30  20:25 07 Jun  23h 55m      1 stop   \n",
       "2667              CCU → BLR    14:20         16:55   2h 35m    non-stop   \n",
       "2668        DEL → BOM → COK    21:50  04:25 07 Mar   6h 35m      1 stop   \n",
       "2669        DEL → BOM → COK    04:00         19:15  15h 15m      1 stop   \n",
       "2670        DEL → BOM → COK    04:55         19:15  14h 20m      1 stop   \n",
       "\n",
       "     Additional_Info    Price  \n",
       "0            No info   3897.0  \n",
       "1            No info   7662.0  \n",
       "2            No info  13882.0  \n",
       "3            No info   6218.0  \n",
       "4            No info  13302.0  \n",
       "...              ...      ...  \n",
       "2666         No info      NaN  \n",
       "2667         No info      NaN  \n",
       "2668         No info      NaN  \n",
       "2669         No info      NaN  \n",
       "2670         No info      NaN  \n",
       "\n",
       "[13354 rows x 11 columns]"
      ]
     },
     "execution_count": 16,
     "metadata": {},
     "output_type": "execute_result"
    }
   ],
   "source": [
    "train_df = pd.read_excel(r\"C:\\Users\\ADMIN\\Documents\\Data_Science\\Data\\Train_set_airplane.xlsx\")\n",
    "test_df = pd.read_excel(r\"C:\\Users\\ADMIN\\Documents\\Data_Science\\Data\\Test_set_airplane.xlsx\")\n",
    "final_df = train_df.append(test_df)"
   ]
  },
  {
   "cell_type": "markdown",
   "id": "926568cd",
   "metadata": {},
   "source": [
    "TWO WAYS"
   ]
  },
  {
   "cell_type": "code",
   "execution_count": 17,
   "id": "ef0ca576",
   "metadata": {},
   "outputs": [],
   "source": [
    "final_df['Date'] = final_df['Date_of_Journey'].str.split('/').str[0].astype(int)\n",
    "final_df['Month'] = final_df['Date_of_Journey'].str.split('/').str[1].astype(int)\n",
    "final_df['Year'] = final_df['Date_of_Journey'].str.split('/').str[2].astype(int)\n",
    "# final_df[\"Date\"] = final_df['Date_of_Journey'].apply(lambda x:int(x.split(\"/\")[0]))\n",
    "# final_df[\"Month\"]= final_df['Date_of_Journey'].apply(lambda x:int(x.split(\"/\")[1]))\n",
    "# final_df[\"Year\"]= final_df['Date_of_Journey'].apply(lambda x:int(x.split(\"/\")[2]))\n",
    "final_df.drop(columns = 'Date_of_Journey',inplace=True)\n",
    "final_df['Arrival_Time'] = final_df['Arrival_Time'].str.split(' ').str[0]\n",
    "final_df['Arrival_Hour'] = final_df['Arrival_Time'].str.split(':').str[0].astype(int)\n",
    "final_df['Arrival_Min'] = final_df['Arrival_Time'].str.split(':').str[1].astype(int)"
   ]
  },
  {
   "cell_type": "markdown",
   "id": "ec6a58fa",
   "metadata": {},
   "source": [
    "# PRACTICE 2:"
   ]
  },
  {
   "cell_type": "code",
   "execution_count": null,
   "id": "d82fb4f4",
   "metadata": {},
   "outputs": [],
   "source": [
    "df = pd.read_csv(r\"C:\\Users\\ADMIN\\Documents\\Data_Science\\Data\\restaurant_zomato.csv\",encoding='latin-1')\n",
    "df_country = pd.read_excel(r\"C:\\Users\\ADMIN\\Documents\\Data_Science\\Data\\Country-Code.xlsx\")\n",
    "final_df = pd.merge(df,df_country,on='Country Code',how='left')\n",
    "country_info = final_df.Country.value_counts()\n",
    "# sns.heatmap(df.isnull(),yticklabels=False,cbar=False,cmap='viridis')\n",
    "# final_df.dtypes\n",
    "ratings = final_df.groupby(['Aggregate rating','Rating color','Rating text']).size().reset_index().rename(columns={0:'Rating Count'})\n",
    "sns.barplot(x = \"Aggregate rating\", y =\"Rating Count\",hue='Rating color',data = ratings,palette=['blue','red','orange','yellow','green','green'])\n",
    "sns.countplot(x='Rating color',data=ratings,palette=['blue','red','orange','yellow','green','green'])"
   ]
  }
 ],
 "metadata": {
  "kernelspec": {
   "display_name": "Python 3 (ipykernel)",
   "language": "python",
   "name": "python3"
  },
  "language_info": {
   "codemirror_mode": {
    "name": "ipython",
    "version": 3
   },
   "file_extension": ".py",
   "mimetype": "text/x-python",
   "name": "python",
   "nbconvert_exporter": "python",
   "pygments_lexer": "ipython3",
   "version": "3.9.12"
  }
 },
 "nbformat": 4,
 "nbformat_minor": 5
}
