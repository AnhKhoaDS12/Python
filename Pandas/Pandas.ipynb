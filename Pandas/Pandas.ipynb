{
 "cells": [
  {
   "cell_type": "code",
   "execution_count": 2,
   "id": "1e60641b",
   "metadata": {},
   "outputs": [],
   "source": [
    "import pandas as pd,numpy as np,seaborn as sns"
   ]
  },
  {
   "cell_type": "code",
   "execution_count": 11,
   "id": "358a9988",
   "metadata": {},
   "outputs": [],
   "source": [
    "df = pd.read_csv(r\"C:\\Users\\ADMIN\\Documents\\Data_Science\\Data\\Classified Data.csv\",index_col=0,skiprows=[0],header=None)\n",
    "# df.head(3)\n",
    "# df.tail(3)\n",
    "# df.describe(include='all')\n",
    "# df.info()\n",
    "# to_numpy()\n",
    "# df.to_excel('name.xlsx',sheet_name='')\n",
    "# pd.read_excel('name.xlsx')\n",
    "# df[''] = pd.to_numeric(df[''],errors='coerce').fillna(0)"
   ]
  },
  {
   "cell_type": "markdown",
   "id": "8bb82a80",
   "metadata": {},
   "source": [
    "+ min_rows (default:10): pd.reset_option('display.min_rows',10)\n",
    "+ max_rows (default:60): pd.reset_option('display.max_rows',60)\n",
    "+ max > min -> min\n",
    "+ min > max -> max"
   ]
  },
  {
   "cell_type": "markdown",
   "id": "07f20448",
   "metadata": {},
   "source": [
    "# SERIES TO DATAFRAME"
   ]
  },
  {
   "cell_type": "code",
   "execution_count": null,
   "id": "2673afcf",
   "metadata": {},
   "outputs": [],
   "source": [
    "to_frame().T"
   ]
  },
  {
   "cell_type": "markdown",
   "id": "463cca2f",
   "metadata": {},
   "source": [
    "# INDEX"
   ]
  },
  {
   "cell_type": "code",
   "execution_count": 10,
   "id": "b2746fbf",
   "metadata": {},
   "outputs": [],
   "source": [
    "# df.set_index(df.columns[0],inplace=True)\n",
    "# df.reset_index(inplace=True)\n",
    "# df.sort_index()"
   ]
  },
  {
   "cell_type": "markdown",
   "id": "5ce200c0",
   "metadata": {},
   "source": [
    "# CONDITION"
   ]
  },
  {
   "cell_type": "code",
   "execution_count": null,
   "id": "2d7bdec1",
   "metadata": {},
   "outputs": [],
   "source": [
    "# filt = (df['last'] == 'Schafer') | (df['first'] == 'John')\n",
    "# df.loc[~filt,'email']\n",
    "# filt = df[countries].isin(countries)"
   ]
  },
  {
   "cell_type": "markdown",
   "id": "72d4c0ea",
   "metadata": {},
   "source": [
    "# COLUMNS"
   ]
  },
  {
   "cell_type": "code",
   "execution_count": null,
   "id": "10f82a7f",
   "metadata": {},
   "outputs": [],
   "source": [
    "# df.columns = ['Tên mới','']\n",
    "# df.columns = df.columns.str.replace('_','')"
   ]
  },
  {
   "cell_type": "markdown",
   "id": "e57d48bc",
   "metadata": {},
   "source": [
    "# LOC (LABEL) / ILOC(LOCATION)"
   ]
  },
  {
   "cell_type": "code",
   "execution_count": null,
   "id": "12a209f6",
   "metadata": {},
   "outputs": [],
   "source": [
    "# df.loc[2,'last'] = 'Smith'\n",
    "# df.loc[[3,4,5],:]\n",
    "# df.loc[3:5:1,'':'']\n",
    "# df.loc[df['']=='hcm',:]\n",
    "\n",
    "# = df.at[2,'last'] = 'Smith'\n",
    "# df.iloc[:,-1]\n",
    "# df.iloc[list(df['']>50) , ['','']]\n",
    "# df.iloc[lambda df:[0,1] list(>50),['','']]"
   ]
  },
  {
   "cell_type": "markdown",
   "id": "3bb85db8",
   "metadata": {},
   "source": [
    "# UNIQUE/NUNIQUE"
   ]
  },
  {
   "cell_type": "code",
   "execution_count": null,
   "id": "da796dda",
   "metadata": {},
   "outputs": [],
   "source": [
    "# df.unique()\n",
    "# df.nunique = df.value_counts().count()"
   ]
  },
  {
   "cell_type": "markdown",
   "id": "dacef765",
   "metadata": {},
   "source": [
    "+ MAP (SERIES): map khi dùng thay thế, nếu chưa thay thế thì là giá trị nan thay vì vậy mình dùng replace \n",
    "+ APPLYMAP(DATAFRAME)\n",
    "+ APPLY(SERIES+DATAFRAME)"
   ]
  },
  {
   "cell_type": "markdown",
   "id": "0ad641a8",
   "metadata": {},
   "source": [
    "# APPLY"
   ]
  },
  {
   "cell_type": "code",
   "execution_count": null,
   "id": "6abf12e3",
   "metadata": {},
   "outputs": [],
   "source": [
    "# def updata_mail(email):\n",
    "#     return email.upper()\n",
    "# df['email'].apply(updata_mail)\n",
    "# df['email'].apply(lambda x:x.lower())\n",
    "# df['email'].apply(lambda x:x.replace('$','')).astype('float')"
   ]
  },
  {
   "cell_type": "markdown",
   "id": "93381a44",
   "metadata": {},
   "source": [
    "# SPLIT"
   ]
  },
  {
   "cell_type": "code",
   "execution_count": null,
   "id": "719cf719",
   "metadata": {},
   "outputs": [],
   "source": [
    "# df[['first','last']] = df['full_name'].str.split(' ',expand=True)"
   ]
  },
  {
   "cell_type": "markdown",
   "id": "b2adb6c2",
   "metadata": {},
   "source": [
    "# INSERT"
   ]
  },
  {
   "cell_type": "code",
   "execution_count": null,
   "id": "26d357e5",
   "metadata": {},
   "outputs": [],
   "source": [
    "# df.insert(location,'name',value)"
   ]
  },
  {
   "cell_type": "markdown",
   "id": "2c73f4df",
   "metadata": {},
   "source": [
    "# APPEND"
   ]
  },
  {
   "cell_type": "code",
   "execution_count": null,
   "id": "464e3fdf",
   "metadata": {},
   "outputs": [],
   "source": [
    "# df.append({'first':'Tony'},ignore_index = True)"
   ]
  },
  {
   "cell_type": "markdown",
   "id": "94e41054",
   "metadata": {},
   "source": [
    "# DROP (index & column & na)"
   ]
  },
  {
   "cell_type": "code",
   "execution_count": null,
   "id": "bb8bae3e",
   "metadata": {},
   "outputs": [],
   "source": [
    "# df.drop(index=4)\n",
    "# df.drop(index=df[df['last']=='Doe'].index)\n",
    "# df.drop(columns='Gender')\n",
    "# df.drop(labels=[])\n",
    "\n",
    "# df.dropna(subset=[0,1],inplace=True)\n",
    "# df.dropna(how='all',inplace=True)\n",
    "# df.dropna(thresh=2,inplace=True)"
   ]
  },
  {
   "cell_type": "markdown",
   "id": "dbe41f8c",
   "metadata": {},
   "source": [
    "# SORT"
   ]
  },
  {
   "cell_type": "code",
   "execution_count": null,
   "id": "bb5848d9",
   "metadata": {},
   "outputs": [],
   "source": [
    "# df.sort_values(by=['cột1','cột2'],ascending = [False,True],na_position='first')"
   ]
  },
  {
   "cell_type": "markdown",
   "id": "abcda485",
   "metadata": {},
   "source": [
    "# TOP"
   ]
  },
  {
   "cell_type": "code",
   "execution_count": null,
   "id": "be16050b",
   "metadata": {},
   "outputs": [],
   "source": [
    "# df['ConverttedComp'].nlargest(10)\n",
    "# df.nlargest(10,'ConvertedComp')"
   ]
  },
  {
   "cell_type": "markdown",
   "id": "f32de9d7",
   "metadata": {},
   "source": [
    "# Value_counts"
   ]
  },
  {
   "cell_type": "code",
   "execution_count": null,
   "id": "164b03f3",
   "metadata": {},
   "outputs": [],
   "source": [
    "# df['SocialMedia'].value_counts(normalize=True)\n",
    "# = groupby('')[''].count()\n",
    "# df['SocialMedia'].value_counts().count()"
   ]
  },
  {
   "cell_type": "markdown",
   "id": "d90a7b4c",
   "metadata": {},
   "source": [
    "# Groupy"
   ]
  },
  {
   "cell_type": "code",
   "execution_count": null,
   "id": "8c1b8665",
   "metadata": {},
   "outputs": [],
   "source": [
    "# country_grp = df.groupy(['Country'])[''].apply(print)\n",
    "# country_grp.get_group('United States')"
   ]
  },
  {
   "cell_type": "markdown",
   "id": "f1b8fd8e",
   "metadata": {},
   "source": [
    "# SAMPLE"
   ]
  },
  {
   "cell_type": "code",
   "execution_count": 2,
   "id": "41f40d4a",
   "metadata": {},
   "outputs": [],
   "source": [
    "# # HOÁN ĐỔI HÀNG VÀ LẤY GIỮ NGUYÊN TRỤC\n",
    "# df.sample(frac=1)"
   ]
  },
  {
   "cell_type": "markdown",
   "id": "6b9372b9",
   "metadata": {},
   "source": [
    "# FILTER"
   ]
  },
  {
   "cell_type": "code",
   "execution_count": null,
   "id": "074cfaec",
   "metadata": {},
   "outputs": [],
   "source": [
    "# country_grp['SocialMedia'].value_count(normalize=True).loc['India']\n",
    "# country_grp['LanguageWorkedWith].apply(lambda x:x.str.contains('Python').sum())"
   ]
  },
  {
   "cell_type": "markdown",
   "id": "6df7b556",
   "metadata": {},
   "source": [
    "# DATETIME"
   ]
  },
  {
   "cell_type": "code",
   "execution_count": null,
   "id": "0463e8d5",
   "metadata": {},
   "outputs": [],
   "source": [
    "# df['name'] = pd.datetime(df[['Mont','Day','Year']])\n",
    "\n",
    "# d_parser = lambad x:pd.datatime.strptime(x,'%Y-%m-%d %I-%p')\n",
    "# df = pd.read_csv('',parse_dates=['Date'],data_parser=d_parser)\n",
    "# df['Date'].dt.day_name()\n",
    "# df.loc[df['Date']>='2020']\n",
    "# filt = (df['Date']>= pd.to_datetime('2019-01-01')) & (df['Date]<pd.to_datetime('2019-01-01'))\n",
    "# df['column_time'] = pd.to_datetime\n",
    "# parse_dates = ['column_time']"
   ]
  },
  {
   "cell_type": "markdown",
   "id": "fb6b1bca",
   "metadata": {},
   "source": [
    "# CONVERTERS"
   ]
  },
  {
   "cell_type": "code",
   "execution_count": null,
   "id": "17bf4a32",
   "metadata": {},
   "outputs": [],
   "source": [
    "# social_ads = pd.read_csv('Social_Network_Ads.csv',dtype={'User ID':object},\n",
    "#                          converters={'Purchased':lambda x:np.where(x=='1',True,False)})"
   ]
  },
  {
   "cell_type": "markdown",
   "id": "22d8a9a2",
   "metadata": {},
   "source": [
    "# PIVOT / PIVOT TABLE / RESET"
   ]
  },
  {
   "cell_type": "code",
   "execution_count": null,
   "id": "ef4018fd",
   "metadata": {},
   "outputs": [],
   "source": [
    "# df.pivot(columns='',value='')\n",
    "# pd.pivot_table(df,index='Gender',columns='Age',values='EstimatedSalary',aggfunc=np.mean)\n",
    "# df.pivot(columns='',values='').reset_index"
   ]
  },
  {
   "cell_type": "markdown",
   "id": "7c4d5b82",
   "metadata": {},
   "source": [
    "# MERGE"
   ]
  },
  {
   "cell_type": "code",
   "execution_count": null,
   "id": "d14a2ec6",
   "metadata": {},
   "outputs": [],
   "source": [
    "# pd.merge(table1,table2,how='left',on='')"
   ]
  },
  {
   "cell_type": "markdown",
   "id": "6df80024",
   "metadata": {},
   "source": [
    "# FILL NAN VALUE"
   ]
  },
  {
   "cell_type": "code",
   "execution_count": null,
   "id": "16a2acb3",
   "metadata": {},
   "outputs": [],
   "source": [
    "# df.fillna(-1,inplace=True)"
   ]
  },
  {
   "cell_type": "markdown",
   "id": "eb4c9c98",
   "metadata": {},
   "source": [
    "# RENAME"
   ]
  },
  {
   "cell_type": "code",
   "execution_count": null,
   "id": "8083bd8f",
   "metadata": {},
   "outputs": [],
   "source": [
    "# df.rename(columns={0:'Number'})"
   ]
  },
  {
   "cell_type": "markdown",
   "id": "f44fe0ca",
   "metadata": {},
   "source": [
    "# CONCAT"
   ]
  },
  {
   "cell_type": "code",
   "execution_count": null,
   "id": "0484094c",
   "metadata": {},
   "outputs": [],
   "source": [
    "# pd.concat([a,b],axis=1,ignore_index=True,sort=False,join='inner')"
   ]
  },
  {
   "cell_type": "markdown",
   "id": "66a9cfc7",
   "metadata": {},
   "source": [
    "# SAVE"
   ]
  },
  {
   "cell_type": "code",
   "execution_count": null,
   "id": "54dd52b8",
   "metadata": {},
   "outputs": [],
   "source": [
    "# df.to_csv('name.csv')\n",
    "# df.to_json(orient='index')"
   ]
  },
  {
   "cell_type": "markdown",
   "id": "ae66e1e4",
   "metadata": {},
   "source": [
    "# HMTL"
   ]
  },
  {
   "cell_type": "code",
   "execution_count": null,
   "id": "08cacd02",
   "metadata": {},
   "outputs": [],
   "source": [
    "# pd.read_html(url='')"
   ]
  },
  {
   "cell_type": "markdown",
   "id": "bf0c1e6a",
   "metadata": {},
   "source": [
    "# PICKLING"
   ]
  },
  {
   "cell_type": "code",
   "execution_count": null,
   "id": "05c32807",
   "metadata": {},
   "outputs": [],
   "source": [
    "# df.to_pickle('df')\n",
    "# df = pd.read_pickle('df')"
   ]
  }
 ],
 "metadata": {
  "kernelspec": {
   "display_name": "Python 3 (ipykernel)",
   "language": "python",
   "name": "python3"
  },
  "language_info": {
   "codemirror_mode": {
    "name": "ipython",
    "version": 3
   },
   "file_extension": ".py",
   "mimetype": "text/x-python",
   "name": "python",
   "nbconvert_exporter": "python",
   "pygments_lexer": "ipython3",
   "version": "3.9.12"
  }
 },
 "nbformat": 4,
 "nbformat_minor": 5
}
