{
 "cells": [
  {
   "cell_type": "code",
   "execution_count": 1,
   "id": "5156516c",
   "metadata": {},
   "outputs": [],
   "source": [
    "dataset = [11,10,12,14,12,15,14,13,15,102,12,14,17,19,107,10,13,12,14,12,108,12,11,14,12,15,16,19,23,12,15,17,12,200]"
   ]
  },
  {
   "cell_type": "code",
   "execution_count": null,
   "id": "9e75dffb",
   "metadata": {},
   "outputs": [],
   "source": [
    "# 1. Using scatter plots\n",
    "# 2. Box plot\n",
    "# 3. Using z-core: nếu dữ liệu có phân phối chuẩn\n",
    "# 4. Using IQR (Interquartile Range): nếu không có phân phối chuẩn\n",
    "import scipy.stats as stats"
   ]
  },
  {
   "cell_type": "code",
   "execution_count": null,
   "id": "6415166c",
   "metadata": {},
   "outputs": [],
   "source": [
    "plt.figure(figsize=(20,5))\n",
    "sns.boxplot(dataset);"
   ]
  },
  {
   "cell_type": "code",
   "execution_count": null,
   "id": "a335f33a",
   "metadata": {},
   "outputs": [],
   "source": [
    "plt.hist(dataset,bins=10);"
   ]
  },
  {
   "cell_type": "code",
   "execution_count": null,
   "id": "263a4320",
   "metadata": {},
   "outputs": [],
   "source": [
    "def detect_outlier_zcore(data):\n",
    "    thresh = 3\n",
    "    mean = np.mean(data)\n",
    "    std = np.std(data)\n",
    "    outlier = []\n",
    "    for i in data:\n",
    "        if np.abs((i-mean)/std) > thresh:\n",
    "            outlier.append(i)\n",
    "    return outlier\n",
    "\n",
    "detect_outlier_zcore(dataset)"
   ]
  },
  {
   "cell_type": "code",
   "execution_count": null,
   "id": "b612f81c",
   "metadata": {},
   "outputs": [],
   "source": [
    "def detect_outlier_iqr(data):\n",
    "    quantile1,quantile3 = np.percentile(data,[25,75])\n",
    "    iqr_value = quantile3-quantile1\n",
    "    lower_bound_val = quantile1-(1.5*iqr_value)\n",
    "    upper_bound_val = quantile3+(1.5*iqr_value)\n",
    "\n",
    "    outlier = []\n",
    "    for i in data:\n",
    "        if i > upper_bound_val or i < lower_bound_val:\n",
    "            outlier.append(i)\n",
    "    return outlier\n",
    "detect_outlier_iqr(dataset)"
   ]
  },
  {
   "cell_type": "code",
   "execution_count": null,
   "id": "d401bbe6",
   "metadata": {},
   "outputs": [],
   "source": []
  },
  {
   "cell_type": "markdown",
   "id": "c61ad4fe",
   "metadata": {},
   "source": [
    "REMOVE OUTLIER"
   ]
  },
  {
   "cell_type": "code",
   "execution_count": 25,
   "id": "54e4356d",
   "metadata": {},
   "outputs": [],
   "source": [
    "df = pd.read_csv(\"bhp.csv\")\n",
    "df.head()"
   ]
  },
  {
   "cell_type": "code",
   "execution_count": 26,
   "id": "5bb86cf0",
   "metadata": {},
   "outputs": [],
   "source": [
    "min_thresold, max_thresold = df.price_per_sqft.quantile([0.001, 0.999])\n",
    "min_thresold, max_thresold"
   ]
  },
  {
   "cell_type": "code",
   "execution_count": 27,
   "id": "821e81e9",
   "metadata": {},
   "outputs": [],
   "source": [
    "df[df.price_per_sqft < min_thresold]"
   ]
  },
  {
   "cell_type": "code",
   "execution_count": null,
   "id": "934ea19e",
   "metadata": {},
   "outputs": [],
   "source": [
    "df[df.price_per_sqft > max_thresold]"
   ]
  },
  {
   "cell_type": "code",
   "execution_count": null,
   "id": "f1b56a32",
   "metadata": {},
   "outputs": [],
   "source": [
    "df2 = df[(df.price_per_sqft<max_thresold) & (df.price_per_sqft>min_thresold)]\n",
    "df2.shape"
   ]
  },
  {
   "cell_type": "code",
   "execution_count": null,
   "id": "40b87fd9",
   "metadata": {},
   "outputs": [],
   "source": []
  },
  {
   "cell_type": "code",
   "execution_count": null,
   "id": "6531bc51",
   "metadata": {},
   "outputs": [],
   "source": [
    "import pandas as pd\n",
    "import numpy as np\n",
    "import matplotlib.pyplot as plt\n",
    "%matplotlib inline\n",
    "import scipy.stats as stats\n",
    "import seaborn as sns"
   ]
  },
  {
   "cell_type": "code",
   "execution_count": null,
   "id": "7b13a1dd",
   "metadata": {},
   "outputs": [],
   "source": [
    "from sklearn.datasets import fetch_california_housing\n",
    "ca = fetch_california_housing()"
   ]
  },
  {
   "cell_type": "code",
   "execution_count": null,
   "id": "6399a5ae",
   "metadata": {},
   "outputs": [],
   "source": [
    "dir(ca)"
   ]
  },
  {
   "cell_type": "code",
   "execution_count": null,
   "id": "d0b96af4",
   "metadata": {},
   "outputs": [],
   "source": [
    "X = ca.data"
   ]
  },
  {
   "cell_type": "code",
   "execution_count": null,
   "id": "1b291056",
   "metadata": {},
   "outputs": [],
   "source": [
    "y = ca.target"
   ]
  },
  {
   "cell_type": "code",
   "execution_count": null,
   "id": "58800650",
   "metadata": {},
   "outputs": [],
   "source": [
    "data = np.concatenate((X,y.reshape(-1,1)), axis=1)"
   ]
  },
  {
   "cell_type": "code",
   "execution_count": null,
   "id": "35e5bc1b",
   "metadata": {},
   "outputs": [],
   "source": [
    "df = pd.DataFrame(data, columns=ca.feature_names+['target'])\n",
    "df.head()"
   ]
  },
  {
   "cell_type": "code",
   "execution_count": null,
   "id": "0e72a9e8",
   "metadata": {},
   "outputs": [],
   "source": [
    "df = pd.DataFrame(data, columns=ca.feature_names+['target'])\n",
    "df.head()"
   ]
  },
  {
   "cell_type": "code",
   "execution_count": null,
   "id": "26b11a2f",
   "metadata": {},
   "outputs": [],
   "source": [
    "sns.set_style('dark')\n",
    "for col in features:\n",
    "    plt.figure(figsize=(15,4))\n",
    "    plt.subplot(131)\n",
    "    sns.distplot(df[col], label=\"skew: \" + str(np.round(df[col].skew(),2)))\n",
    "    plt.legend()\n",
    "    plt.subplot(132)\n",
    "    sns.boxplot(df[col])\n",
    "    plt.subplot(133)\n",
    "    stats.probplot(df[col], plot=plt)\n",
    "    plt.tight_layout()\n",
    "    plt.show()"
   ]
  },
  {
   "cell_type": "markdown",
   "id": "b349485b",
   "metadata": {},
   "source": [
    "The method of using Z scores for capping/ trimming the outliers is valid ONLY if the particular feature is normally distributed\n",
    "Since our data here is NOT normally distributed, we should use other techniques, one of which is this IQR method"
   ]
  },
  {
   "cell_type": "markdown",
   "id": "0a13eb8b",
   "metadata": {},
   "source": [
    "# Capping using IQR method (Thay thế)"
   ]
  },
  {
   "cell_type": "code",
   "execution_count": null,
   "id": "2e0c69c3",
   "metadata": {},
   "outputs": [],
   "source": [
    "df_cap = df.copy()"
   ]
  },
  {
   "cell_type": "code",
   "execution_count": null,
   "id": "f50cc909",
   "metadata": {},
   "outputs": [],
   "source": [
    "def iqr_capping(df, cols, factor):\n",
    "    \n",
    "    for col in cols:\n",
    "        \n",
    "        q1 = df[col].quantile(0.25)\n",
    "        q3 = df[col].quantile(0.75)\n",
    "        \n",
    "        iqr = q3 - q1\n",
    "        \n",
    "        upper_whisker = q3 + (factor*iqr)\n",
    "        lower_whisker = q1 - (factor*iqr)\n",
    "        \n",
    "        df[col] = np.where(df[col]>upper_whisker, upper_whisker,np.where(df[col]<lower_whisker, lower_whisker, df[col]))"
   ]
  },
  {
   "cell_type": "code",
   "execution_count": null,
   "id": "bbd9b160",
   "metadata": {},
   "outputs": [],
   "source": [
    "iqr_capping(df_cap, features, 1.5)"
   ]
  },
  {
   "cell_type": "code",
   "execution_count": null,
   "id": "276315e2",
   "metadata": {},
   "outputs": [],
   "source": [
    "for col in features:\n",
    "    plt.figure(figsize=(16,4))\n",
    "    \n",
    "    plt.subplot(141)\n",
    "    sns.distplot(df[col], label=\"skew: \" + str(np.round(df[col].skew(),2)))\n",
    "    plt.title('Before')\n",
    "    plt.legend()\n",
    "    \n",
    "    plt.subplot(142)\n",
    "    sns.distplot(df_cap[col], label=\"skew: \" + str(np.round(df_cap[col].skew(),2)))\n",
    "    plt.title('After')\n",
    "    plt.legend()\n",
    "    \n",
    "    plt.subplot(143)\n",
    "    sns.boxplot(df[col])\n",
    "    plt.title('Before')\n",
    "    \n",
    "    plt.subplot(144)\n",
    "    sns.boxplot(df_cap[col])\n",
    "    plt.title('After')\n",
    "    plt.tight_layout()\n",
    "    plt.show()"
   ]
  },
  {
   "cell_type": "markdown",
   "id": "745ece6b",
   "metadata": {},
   "source": [
    "# Trimming using IQR method (Cắt)"
   ]
  },
  {
   "cell_type": "code",
   "execution_count": null,
   "id": "13175674",
   "metadata": {},
   "outputs": [],
   "source": [
    "df_trim = df.copy()"
   ]
  },
  {
   "cell_type": "code",
   "execution_count": null,
   "id": "b2e8ef02",
   "metadata": {},
   "outputs": [],
   "source": [
    "def iqr_trimming(df, cols, factor):\n",
    "    \n",
    "    drop_outliers = np.array([])\n",
    "    \n",
    "    for col in cols:\n",
    "        \n",
    "        q1 = df[col].quantile(0.25)\n",
    "        q3 = df[col].quantile(0.75)\n",
    "        \n",
    "        iqr = q3 - q1\n",
    "        \n",
    "        upper_whisker = q3 + (factor*iqr)\n",
    "        lower_whisker = q1 - (factor*iqr)\n",
    "        \n",
    "        s = df[col]\n",
    "        \n",
    "        indexes = s[(s > upper_whisker) | (s< lower_whisker)].index\n",
    "        \n",
    "        drop_outliers = np.append(drop_outliers, indexes)\n",
    "    \n",
    "    return drop_outliers"
   ]
  },
  {
   "cell_type": "code",
   "execution_count": null,
   "id": "b9ede78f",
   "metadata": {},
   "outputs": [],
   "source": [
    "s = df['Population']\n",
    "s[(s > 3000) | (s<20)].index"
   ]
  },
  {
   "cell_type": "code",
   "execution_count": null,
   "id": "52e570ad",
   "metadata": {},
   "outputs": [],
   "source": [
    "dropped = np.unique(iqr_trimming(df_trim, features, 1.5))"
   ]
  },
  {
   "cell_type": "code",
   "execution_count": null,
   "id": "61eea0ac",
   "metadata": {},
   "outputs": [],
   "source": [
    "df_trim.drop(dropped, inplace=True)"
   ]
  },
  {
   "cell_type": "code",
   "execution_count": null,
   "id": "569be04f",
   "metadata": {},
   "outputs": [],
   "source": [
    "df_trim.shape"
   ]
  },
  {
   "cell_type": "code",
   "execution_count": null,
   "id": "cc3e6cfe",
   "metadata": {},
   "outputs": [],
   "source": [
    "df.shape"
   ]
  },
  {
   "cell_type": "code",
   "execution_count": null,
   "id": "a57731e7",
   "metadata": {},
   "outputs": [],
   "source": []
  },
  {
   "cell_type": "code",
   "execution_count": null,
   "id": "3dfac4c8",
   "metadata": {},
   "outputs": [],
   "source": [
    "for col in features:\n",
    "    plt.figure(figsize=(16,4))\n",
    "    \n",
    "    plt.subplot(141)\n",
    "    sns.distplot(df[col], label=\"skew: \" + str(np.round(df[col].skew(),2)))\n",
    "    plt.title('Before')\n",
    "    plt.legend()\n",
    "    \n",
    "    plt.subplot(142)\n",
    "    sns.distplot(df_trim[col], label=\"skew: \" + str(np.round(df_trim[col].skew(),2)))\n",
    "    plt.title('After')\n",
    "    plt.legend()\n",
    "    \n",
    "    plt.subplot(143)\n",
    "    sns.boxplot(df[col])\n",
    "    plt.title('Before')\n",
    "    \n",
    "    plt.subplot(144)\n",
    "    sns.boxplot(df_trim[col])\n",
    "    plt.title('After')\n",
    "    plt.tight_layout()\n",
    "    plt.show()\n"
   ]
  },
  {
   "cell_type": "markdown",
   "id": "b5a78443",
   "metadata": {},
   "source": [
    "Hãy ghi nhớ rằng phương pháp sử dụng điểm Z này để giới hạn / cắt tỉa các giá trị ngoại lệ CHỈ hợp lệ nếu tính năng cụ thể được phân phối bình thường\n",
    "Lý tưởng nhất là chúng ta nên tách tập dữ liệu thành đào tạo và thử nghiệm, sau đó áp dụng các kỹ thuật kỹ thuật ngoại lai, bởi vì chúng tôi muốn giữ tập hợp thử nghiệm không bị ảnh hưởng cho đến cuối cùng.\n",
    "Nhưng ở đây, chúng tôi sẽ giả định rằng toàn bộ dữ liệu chúng tôi có là tập hợp xe lửa của chúng tôi và chúng tôi có một tập hợp thử nghiệm riêng đang chờ chúng tôi"
   ]
  },
  {
   "cell_type": "code",
   "execution_count": null,
   "id": "3fce34f6",
   "metadata": {},
   "outputs": [],
   "source": [
    "from sklearn.datasets import load_diabetes"
   ]
  },
  {
   "cell_type": "code",
   "execution_count": null,
   "id": "4d9dd7fe",
   "metadata": {},
   "outputs": [],
   "source": [
    "dia = load_diabetes()"
   ]
  },
  {
   "cell_type": "code",
   "execution_count": null,
   "id": "6f8aca06",
   "metadata": {},
   "outputs": [],
   "source": [
    "dir(dia)"
   ]
  },
  {
   "cell_type": "code",
   "execution_count": null,
   "id": "c077e665",
   "metadata": {},
   "outputs": [],
   "source": [
    "X, y = dia.data, dia.target"
   ]
  },
  {
   "cell_type": "code",
   "execution_count": null,
   "id": "454513b4",
   "metadata": {},
   "outputs": [],
   "source": [
    "data = np.concatenate((X,y.reshape(-1,1)), axis=1)"
   ]
  },
  {
   "cell_type": "code",
   "execution_count": null,
   "id": "265f1fec",
   "metadata": {},
   "outputs": [],
   "source": [
    "dia.feature_names"
   ]
  },
  {
   "cell_type": "code",
   "execution_count": null,
   "id": "19f564d9",
   "metadata": {},
   "outputs": [],
   "source": [
    "df = pd.DataFrame(data, columns=dia.feature_names+['target'])\n",
    "df.head()"
   ]
  },
  {
   "cell_type": "code",
   "execution_count": null,
   "id": "24eab2fc",
   "metadata": {},
   "outputs": [],
   "source": [
    "for col in dia.feature_names:\n",
    "    plt.figure(figsize=(15,4))\n",
    "    plt.subplot(131)\n",
    "    sns.distplot(df[col], label=\"skew: \" + str(np.round(df[col].skew(),2)))\n",
    "    plt.legend()\n",
    "    plt.subplot(132)\n",
    "    sns.boxplot(df[col])\n",
    "    plt.subplot(133)\n",
    "    stats.probplot(df[col], plot=plt)\n",
    "    plt.tight_layout()\n",
    "    plt.show()"
   ]
  },
  {
   "cell_type": "markdown",
   "id": "f66cb18c",
   "metadata": {},
   "source": [
    "# Z score capping"
   ]
  },
  {
   "cell_type": "code",
   "execution_count": null,
   "id": "adfb1da4",
   "metadata": {},
   "outputs": [],
   "source": [
    "df_cap = df.copy()"
   ]
  },
  {
   "cell_type": "code",
   "execution_count": null,
   "id": "9e83955d",
   "metadata": {},
   "outputs": [],
   "source": [
    "def zscore_capping(df, cols, thr):\n",
    "    \n",
    "    for col in cols:\n",
    "        \n",
    "        mean = df[col].mean()\n",
    "        std = df[col].std()\n",
    "        \n",
    "        upper_bound = mean + thr*std\n",
    "        lower_bound = mean - thr*std\n",
    "        \n",
    "        df[col] = np.where(df[col]>upper_bound, upper_bound,np.where(df[col]<lower_bound, lower_bound, df[col]))"
   ]
  },
  {
   "cell_type": "code",
   "execution_count": null,
   "id": "d25d44b5",
   "metadata": {},
   "outputs": [],
   "source": [
    "zscore_capping(df_cap, dia.feature_names, 3)"
   ]
  },
  {
   "cell_type": "code",
   "execution_count": null,
   "id": "0d243439",
   "metadata": {},
   "outputs": [],
   "source": [
    "np.round(df_cap.describe(), 4)"
   ]
  },
  {
   "cell_type": "markdown",
   "id": "7ae2f257",
   "metadata": {},
   "source": [
    "# Z score trimming"
   ]
  },
  {
   "cell_type": "code",
   "execution_count": null,
   "id": "2f3fc174",
   "metadata": {},
   "outputs": [],
   "source": [
    "df_trim = df.copy()"
   ]
  },
  {
   "cell_type": "code",
   "execution_count": null,
   "id": "00463526",
   "metadata": {},
   "outputs": [],
   "source": [
    "def zscore_trim(df, cols, thr):\n",
    "    \n",
    "    drop_outliers = np.array([])\n",
    "    \n",
    "    for col in cols:\n",
    "        \n",
    "        mean = df[col].mean()\n",
    "        std = df[col].std()\n",
    "        \n",
    "        upper_bound = mean + thr*std\n",
    "        lower_bound = mean - thr*std\n",
    "        \n",
    "        s = df[col]\n",
    "        \n",
    "        indexes = s[(s>upper_bound) | (s<lower_bound)].index\n",
    "        \n",
    "        drop_outliers = np.append(drop_outliers, indexes)\n",
    "        \n",
    "    return drop_outliers"
   ]
  },
  {
   "cell_type": "code",
   "execution_count": null,
   "id": "56a4cf3c",
   "metadata": {},
   "outputs": [],
   "source": [
    "s = df['s1']\n",
    "s[(s>0.1429) | (s<-0.1429)].index"
   ]
  },
  {
   "cell_type": "code",
   "execution_count": null,
   "id": "66205b50",
   "metadata": {},
   "outputs": [],
   "source": [
    "dia.feature_names"
   ]
  },
  {
   "cell_type": "code",
   "execution_count": null,
   "id": "7eb62921",
   "metadata": {},
   "outputs": [],
   "source": [
    "dropped = np.unique(zscore_trim(df_trim, dia.feature_names, 3))\n",
    "dropped"
   ]
  },
  {
   "cell_type": "code",
   "execution_count": null,
   "id": "8ad6bc52",
   "metadata": {},
   "outputs": [],
   "source": [
    "df_trim.drop(labels=dropped, inplace=True)"
   ]
  },
  {
   "cell_type": "code",
   "execution_count": null,
   "id": "8dcc8947",
   "metadata": {},
   "outputs": [],
   "source": []
  },
  {
   "cell_type": "code",
   "execution_count": null,
   "id": "2fe506bc",
   "metadata": {},
   "outputs": [],
   "source": []
  },
  {
   "cell_type": "code",
   "execution_count": null,
   "id": "03d288a1",
   "metadata": {},
   "outputs": [],
   "source": []
  },
  {
   "cell_type": "code",
   "execution_count": null,
   "id": "ed030d03",
   "metadata": {},
   "outputs": [],
   "source": []
  },
  {
   "cell_type": "code",
   "execution_count": null,
   "id": "ff4f6cae",
   "metadata": {},
   "outputs": [],
   "source": []
  },
  {
   "cell_type": "code",
   "execution_count": null,
   "id": "01e73767",
   "metadata": {},
   "outputs": [],
   "source": []
  },
  {
   "cell_type": "code",
   "execution_count": null,
   "id": "c16678d4",
   "metadata": {},
   "outputs": [],
   "source": []
  },
  {
   "cell_type": "code",
   "execution_count": null,
   "id": "798e7323",
   "metadata": {},
   "outputs": [],
   "source": []
  }
 ],
 "metadata": {
  "kernelspec": {
   "display_name": "Python 3 (ipykernel)",
   "language": "python",
   "name": "python3"
  },
  "language_info": {
   "codemirror_mode": {
    "name": "ipython",
    "version": 3
   },
   "file_extension": ".py",
   "mimetype": "text/x-python",
   "name": "python",
   "nbconvert_exporter": "python",
   "pygments_lexer": "ipython3",
   "version": "3.9.12"
  }
 },
 "nbformat": 4,
 "nbformat_minor": 5
}
