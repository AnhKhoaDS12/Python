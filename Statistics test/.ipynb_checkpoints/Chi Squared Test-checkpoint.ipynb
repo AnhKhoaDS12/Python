{
 "cells": [
  {
   "cell_type": "code",
   "execution_count": 1,
   "id": "1f83d6b1",
   "metadata": {},
   "outputs": [],
   "source": [
    "import seaborn as sns,pandas as pd,numpy as np,scipy.stats as stats\n",
    "from scipy.stats import chi2\n",
    "dataset = sns.load_dataset('tips')"
   ]
  },
  {
   "cell_type": "markdown",
   "id": "b06849b6",
   "metadata": {},
   "source": [
    "# Chi-Square Test\n",
    "+ The test is applied when you have two categorical variables from a single population. \n",
    "+ It is used to determine whether there is a significant association between the two variables.\n",
    "+ ## https://www.youtube.com/watch?v=LE3AIyY_cn8"
   ]
  },
  {
   "cell_type": "code",
   "execution_count": 2,
   "id": "d6f9bba2",
   "metadata": {},
   "outputs": [],
   "source": [
    "dataset_table = pd.crosstab(dataset['sex'],dataset['smoker'])"
   ]
  },
  {
   "cell_type": "code",
   "execution_count": 3,
   "id": "050b3cea",
   "metadata": {},
   "outputs": [
    {
     "data": {
      "text/plain": [
       "array([[60, 97],\n",
       "       [33, 54]], dtype=int64)"
      ]
     },
     "execution_count": 3,
     "metadata": {},
     "output_type": "execute_result"
    }
   ],
   "source": [
    "Observed_Values = pd.crosstab(dataset['sex'],dataset['smoker']).values\n",
    "Observed_Values"
   ]
  },
  {
   "cell_type": "code",
   "execution_count": 4,
   "id": "9d7b8fd0",
   "metadata": {},
   "outputs": [],
   "source": [
    "val = stats.chi2_contingency(dataset_table)"
   ]
  },
  {
   "cell_type": "code",
   "execution_count": 5,
   "id": "5aa6025b",
   "metadata": {},
   "outputs": [
    {
     "data": {
      "text/plain": [
       "array([[59.84016393, 97.15983607],\n",
       "       [33.15983607, 53.84016393]])"
      ]
     },
     "execution_count": 5,
     "metadata": {},
     "output_type": "execute_result"
    }
   ],
   "source": [
    "Expected_Values = val[3]\n",
    "Expected_Values"
   ]
  },
  {
   "cell_type": "code",
   "execution_count": 6,
   "id": "72bd12ae",
   "metadata": {},
   "outputs": [
    {
     "name": "stdout",
     "output_type": "stream",
     "text": [
      "Degree of Freedom:  1\n"
     ]
    }
   ],
   "source": [
    "no_of_rows = len(dataset_table.iloc[0:2,0])\n",
    "no_of_columns = len(dataset_table.iloc[0,0:2])\n",
    "ddof = (no_of_rows-1)*(no_of_columns-1)\n",
    "print(\"Degree of Freedom: \",ddof)"
   ]
  },
  {
   "cell_type": "code",
   "execution_count": 7,
   "id": "9ac40b94",
   "metadata": {},
   "outputs": [],
   "source": [
    "alpha = 0.05"
   ]
  },
  {
   "cell_type": "code",
   "execution_count": 8,
   "id": "749b5c90",
   "metadata": {},
   "outputs": [
    {
     "name": "stdout",
     "output_type": "stream",
     "text": [
      "Critical_value: 3.841458820694124\n"
     ]
    }
   ],
   "source": [
    "chi_square = sum([(o-e)**2/e for o,e in zip(Observed_Values,Expected_Values)])\n",
    "chi_square_statistic = chi_square[0]+chi_square[1]\n",
    "critical_value = chi2.ppf(q = 1-alpha,df = ddof)\n",
    "print('Critical_value:',critical_value)"
   ]
  },
  {
   "cell_type": "code",
   "execution_count": 9,
   "id": "cdbe312a",
   "metadata": {},
   "outputs": [],
   "source": [
    "p_value = 1-chi2.cdf(x = chi_square_statistic,df = ddof)"
   ]
  },
  {
   "cell_type": "code",
   "execution_count": 10,
   "id": "81760eaf",
   "metadata": {},
   "outputs": [
    {
     "name": "stdout",
     "output_type": "stream",
     "text": [
      "p-value: 0.964915107315732\n",
      "Significance level:  0.05\n",
      "Degree of Freedom:  1\n",
      "p-value: 0.964915107315732\n"
     ]
    }
   ],
   "source": [
    "print('p-value:',p_value)\n",
    "print('Significance level: ',alpha)\n",
    "print('Degree of Freedom: ',ddof)\n",
    "print('p-value:',p_value)"
   ]
  },
  {
   "cell_type": "code",
   "execution_count": 11,
   "id": "1a524354",
   "metadata": {},
   "outputs": [
    {
     "name": "stdout",
     "output_type": "stream",
     "text": [
      "Retain H0,There is no relationship between 2 categorical variables\n"
     ]
    }
   ],
   "source": [
    "### Cách 1:\n",
    "if chi_square_statistic>=critical_value:\n",
    "    print(\"Reject H0,There is a relationship between 2 categorical variables\")\n",
    "else:\n",
    "    print(\"Retain H0,There is no relationship between 2 categorical variables\")"
   ]
  },
  {
   "cell_type": "code",
   "execution_count": 12,
   "id": "5724f855",
   "metadata": {},
   "outputs": [
    {
     "name": "stdout",
     "output_type": "stream",
     "text": [
      "Retain H0,There is no relationship between 2 categorical variables\n"
     ]
    }
   ],
   "source": [
    "### Cách 2:\n",
    "if p_value <= alpha:\n",
    "    print(\"Reject H0,There is a relationship between 2 categorical variables\")\n",
    "else:\n",
    "    print(\"Retain H0,There is no relationship between 2 categorical variables\")"
   ]
  }
 ],
 "metadata": {
  "kernelspec": {
   "display_name": "Python 3 (ipykernel)",
   "language": "python",
   "name": "python3"
  },
  "language_info": {
   "codemirror_mode": {
    "name": "ipython",
    "version": 3
   },
   "file_extension": ".py",
   "mimetype": "text/x-python",
   "name": "python",
   "nbconvert_exporter": "python",
   "pygments_lexer": "ipython3",
   "version": "3.9.12"
  }
 },
 "nbformat": 4,
 "nbformat_minor": 5
}
