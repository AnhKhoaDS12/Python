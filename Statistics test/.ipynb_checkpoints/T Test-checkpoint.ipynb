{
 "cells": [
  {
   "cell_type": "code",
   "execution_count": 1,
   "id": "d46aa307",
   "metadata": {},
   "outputs": [],
   "source": [
    "import numpy as np,pandas as pd,scipy.stats as stats,math,matplotlib.pyplot as plt\n",
    "from scipy.stats import ttest_1samp"
   ]
  },
  {
   "cell_type": "markdown",
   "id": "064f17fe",
   "metadata": {},
   "source": [
    "# T Test\n",
    "+ A t-test is a type of inferential statistic which is used to determine if there is a significant difference between the means of two groups which may be related in certain features.\n",
    "+ T-test has 2 types : one sampled t-test & two-sampled t-test."
   ]
  },
  {
   "cell_type": "code",
   "execution_count": 2,
   "id": "350debac",
   "metadata": {},
   "outputs": [],
   "source": [
    "age_population = [10,20,35,50,28,40,55,18,16,55,30,25,43,18,30,28,14,24,16,17,32,35,26,27,65,18,43,23,21,20,19,70]"
   ]
  },
  {
   "cell_type": "code",
   "execution_count": 3,
   "id": "c1a2bc27",
   "metadata": {},
   "outputs": [],
   "source": [
    "u = np.mean(age_population)"
   ]
  },
  {
   "cell_type": "code",
   "execution_count": 4,
   "id": "9b2a0248",
   "metadata": {},
   "outputs": [],
   "source": [
    "sample_size = 10\n",
    "age_sample = np.random.choice(age_population,sample_size)\n",
    "xbar = np.mean(age_sample)\n",
    "std_sample = np.std(age_sample)"
   ]
  },
  {
   "cell_type": "code",
   "execution_count": 5,
   "id": "19a2c536",
   "metadata": {},
   "outputs": [
    {
     "name": "stdout",
     "output_type": "stream",
     "text": [
      "Test:  -0.8614695223990665\n"
     ]
    }
   ],
   "source": [
    "testing = (xbar - u)/(std_sample/np.sqrt(10))\n",
    "print('Test: ',testing)"
   ]
  },
  {
   "cell_type": "code",
   "execution_count": 6,
   "id": "ffc8e691",
   "metadata": {},
   "outputs": [],
   "source": [
    "ttest,p_value = ttest_1samp(age_sample,u)"
   ]
  },
  {
   "cell_type": "markdown",
   "id": "fb152559",
   "metadata": {},
   "source": [
    "# Parameter 2: expected value in hypothesis"
   ]
  },
  {
   "cell_type": "code",
   "execution_count": 7,
   "id": "a0c76bd4",
   "metadata": {},
   "outputs": [
    {
     "name": "stdout",
     "output_type": "stream",
     "text": [
      "-0.8172617476795472\n",
      "0.4348791976067218\n"
     ]
    }
   ],
   "source": [
    "print(ttest)\n",
    "print(p_value)"
   ]
  },
  {
   "cell_type": "code",
   "execution_count": 8,
   "id": "ade1af95",
   "metadata": {},
   "outputs": [
    {
     "name": "stdout",
     "output_type": "stream",
     "text": [
      "We are accepting null hypothesis\n",
      "Không có sự khác biệt giữa population mean và sample mean\n"
     ]
    }
   ],
   "source": [
    "if p_value < 0.05:\n",
    "    print(\" we are rejecting null hypothesis\")\n",
    "    print('Có sự khác biệt giữa population mean và sample mean')\n",
    "else:\n",
    "    print(\"We are accepting null hypothesis\")\n",
    "    print('Không có sự khác biệt giữa population mean và sample mean')"
   ]
  },
  {
   "cell_type": "markdown",
   "id": "fb1e7a08",
   "metadata": {},
   "source": [
    "# PRACTICE 2"
   ]
  },
  {
   "cell_type": "code",
   "execution_count": 9,
   "id": "6d77f89f",
   "metadata": {},
   "outputs": [
    {
     "data": {
      "text/plain": [
       "46.9"
      ]
     },
     "execution_count": 9,
     "metadata": {},
     "output_type": "execute_result"
    }
   ],
   "source": [
    "np.random.seed(6)\n",
    "school_ages = stats.poisson.rvs(loc=18,mu=35,size=1500)\n",
    "classA_ages = stats.poisson.rvs(loc=18,mu=30,size=60)\n",
    "classA_ages.mean()"
   ]
  },
  {
   "cell_type": "code",
   "execution_count": 10,
   "id": "7dfbd871",
   "metadata": {},
   "outputs": [],
   "source": [
    "# _,p_value=stats.ttest_1samp(a=classA_ages,popmean=school_ages.mean())\n",
    "# print(p_value)\n",
    "# if p_value < 0.05:    # alpha value is 0.05 or 5%\n",
    "#     print(\" we are rejecting null hypothesis\")\n",
    "# else:\n",
    "#     print(\"we are accepting null hypothesis\")"
   ]
  },
  {
   "cell_type": "markdown",
   "id": "5165e775",
   "metadata": {},
   "source": [
    "# Two-sample T-test With Python\n",
    "+ The Independent Samples t Test or 2-sample t-test compares the means of two independent groups in order to determine whether there is statistical evidence that the associated population means are significantly different. \n",
    "+ The Independent Samples t Test is a parametric test. This test is also known as: Independent t Test"
   ]
  },
  {
   "cell_type": "code",
   "execution_count": 11,
   "id": "184ba9b7",
   "metadata": {},
   "outputs": [],
   "source": [
    "np.random.seed(12)\n",
    "ClassB_ages = stats.poisson.rvs(loc=18,mu=33,size=60)"
   ]
  },
  {
   "cell_type": "code",
   "execution_count": 12,
   "id": "f817b1d8",
   "metadata": {},
   "outputs": [
    {
     "name": "stdout",
     "output_type": "stream",
     "text": [
      " we are rejecting null hypothesis\n"
     ]
    }
   ],
   "source": [
    "_,p_value = stats.ttest_ind(a = classA_ages,b=ClassB_ages,equal_var=False)\n",
    "if p_value < 0.05:\n",
    "    print(\" we are rejecting null hypothesis\")\n",
    "else:\n",
    "    print(\"we are accepting null hypothesis\")"
   ]
  },
  {
   "cell_type": "markdown",
   "id": "a589ea3e",
   "metadata": {},
   "source": [
    "# Paired T-test With Python\n",
    "+ When you want to check how different samples from the same group are, you can go for a paired T-test"
   ]
  },
  {
   "cell_type": "code",
   "execution_count": 13,
   "id": "deb45a63",
   "metadata": {},
   "outputs": [],
   "source": [
    "weight1 = [25,30,28,35,28,34,26,29,30,26,28,32,31,30,45]\n",
    "weight2 = weight1 + stats.norm.rvs(scale=5,loc=-1.25,size=15)"
   ]
  },
  {
   "cell_type": "code",
   "execution_count": 14,
   "id": "fc0f37b3",
   "metadata": {},
   "outputs": [],
   "source": [
    "weight_df = pd.DataFrame({\"weight_10\":np.array(weight1),\n",
    "                          \"weight_20\":np.array(weight2),\n",
    "                          \"weight_change\":np.array(weight2)-np.array(weight1)})"
   ]
  },
  {
   "cell_type": "code",
   "execution_count": 15,
   "id": "32ff0af7",
   "metadata": {},
   "outputs": [],
   "source": [
    "_,p_value=stats.ttest_rel(a=weight1,b=weight2)"
   ]
  },
  {
   "cell_type": "code",
   "execution_count": 16,
   "id": "73c7a362",
   "metadata": {},
   "outputs": [
    {
     "name": "stdout",
     "output_type": "stream",
     "text": [
      "we are accepting null hypothesis\n"
     ]
    }
   ],
   "source": [
    "if p_value < 0.05:\n",
    "    print(\" we are rejecting null hypothesis\")\n",
    "else:\n",
    "    print(\"we are accepting null hypothesis\")"
   ]
  }
 ],
 "metadata": {
  "kernelspec": {
   "display_name": "Python 3 (ipykernel)",
   "language": "python",
   "name": "python3"
  },
  "language_info": {
   "codemirror_mode": {
    "name": "ipython",
    "version": 3
   },
   "file_extension": ".py",
   "mimetype": "text/x-python",
   "name": "python",
   "nbconvert_exporter": "python",
   "pygments_lexer": "ipython3",
   "version": "3.9.12"
  }
 },
 "nbformat": 4,
 "nbformat_minor": 5
}
