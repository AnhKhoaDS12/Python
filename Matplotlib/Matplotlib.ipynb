{
 "cells": [
  {
   "cell_type": "code",
   "execution_count": 16,
   "id": "3404c600",
   "metadata": {},
   "outputs": [],
   "source": [
    "import pandas as pd,numpy as np,matplotlib.pyplot as plt,seaborn as sns,warnings,matplotlib.image as mpimg\n",
    "warnings.filterwarnings('ignore')\n",
    "%matplotlib inline"
   ]
  },
  {
   "cell_type": "markdown",
   "id": "31c90964",
   "metadata": {},
   "source": [
    "+ (o,-,--,s,^)\n",
    "+ (-,:,--,-.)"
   ]
  },
  {
   "cell_type": "code",
   "execution_count": 31,
   "id": "7ff482a5",
   "metadata": {},
   "outputs": [],
   "source": [
    "df = pd.read_csv(r\"C:\\Users\\ADMIN\\Documents\\Data_Science\\Data\\pokemon.csv\")\n",
    "df.columns\n",
    "a = [1,2,3,4]\n",
    "b = [5,7,8,9]\n",
    "rng = np.random.RandomState(0)\n",
    "x = rng.randn(100)\n",
    "y = rng.randn(100)\n",
    "soft_drink_prices = {'Coke':10,'Pessi':12,'Sprite':8}"
   ]
  },
  {
   "cell_type": "code",
   "execution_count": null,
   "id": "261cbceb",
   "metadata": {},
   "outputs": [],
   "source": [
    "# image = mpimg.imread('Bánh1.png')\n",
    "# plt.imshow(image)"
   ]
  },
  {
   "cell_type": "markdown",
   "id": "bca7d59e",
   "metadata": {},
   "source": [
    "# CODE (PLT)"
   ]
  },
  {
   "cell_type": "code",
   "execution_count": 7,
   "id": "7114f924",
   "metadata": {},
   "outputs": [],
   "source": [
    "# plt.style.available\n",
    "# plt.style.use('ggplot')\n",
    "# plt.rcParams['font.family']='Arial'\n",
    "# plt.rcParams['font.size']=13\n",
    "# plt.figure(figsize=(10,6))\n",
    "# plt.plot(a,b,'s-.',label='Kết quả')\n",
    "# plt.grid()\n",
    "# plt.title('Tỷ lệ trở thành Data Science')\n",
    "# plt.title(r'$\\sigma_i=15$')\n",
    "# plt.xlabel('Kiến thức')\n",
    "# plt.ylabel('Nỗ lực')\n",
    "# plt.annotate('Vị trí cực đại', xy=(2, 1), xytext=(3, 1.5),arrowprops=dict(facecolor='r', shrink=0.05))\n",
    "# plt.subplots_adjust(top=0.92, bottom=0.08, left=0.10, right=0.95, hspace=0.25,wspace=0.35)\n",
    "# plt.yscale('linear')\n",
    "\n",
    "# plt.xlim([0,4])\n",
    "# plt.ylim([-0.75,0.75])\n",
    "# # = plt.axis([0,4,-0.75,0.76])\n",
    "# plt.axis('tight')# làm đầy màn hình\n",
    "# plt.axis('equal')# làm nhỏ lại\n",
    "\n",
    "# plt.legend(loc='upper right')\n",
    "# plt.scatter(a,b)\n",
    "# plt.barh(a,b)\n",
    "# student_height = np.random.normal(170,10,250)\n",
    "# plt.hist(student_height,bins=30)\n",
    "# plt.figure(figsize=(15,8))\n",
    "# plt.pie(x=[10,30,50,70],explode=(0,0,0,0),colors=['r','b','y','w'],shadow=True,autopct='%.1f%%')\n",
    "# plt.legend(title='Tên',labels=['DP','SK','TT','CN'],loc = 'lower left',shadow=True)\n",
    "\n",
    "# plt.colorbar(label='log$_{10}$(population)')\n",
    "# # plt.clim(3,7)\n",
    "# area_range = [50,100,300,500]\n",
    "# for area in area_range:\n",
    "#     plt.scatter([],[],s=area,c='k',alpha=0.5,label=str(area)+'km$^2$')\n",
    "# plt.legend(labelspacing=0.8,title='City Area',scatterpoints=1,loc='upper right')\n",
    "# plt.show()\n",
    "# plt.xticks([0, 1, 10], [\"A\", \"B\", \"C\"], color=\"blue\")\n",
    "# plt.text(0,values[0]+.1,values[0],fontsize=12,horizontalalignment='center')\n",
    "# plt.axhline(y=50)"
   ]
  },
  {
   "cell_type": "markdown",
   "id": "a083ec3a",
   "metadata": {},
   "source": [
    "# OOP"
   ]
  },
  {
   "cell_type": "code",
   "execution_count": 1,
   "id": "a7ce2b45",
   "metadata": {},
   "outputs": [],
   "source": [
    "# fig,ax = plt.subplots(figsize=(10,6))\n",
    "# ax.plot(a,b)\n",
    "# ax.fill(a,b)\n",
    "# ax.set(title='Data Science',xlabel='Python',ylabel='Machine Learning')\n",
    "# ax.grid()\n",
    "# ax.axis('off')\n",
    "# sharex=True,sharey=True\n",
    "# ### OOPS\n",
    "# def cm_to_inch(value):\n",
    "#     return value/2.54\n",
    "# figsize = (cm_to_inch(10),cm_to_inch(15))\n",
    "# #fig,((ax1,ax2),(ax3,ax4)) = plt.subplots(nrows=2,ncols=2,figsize=(10,5)\n",
    "# fig,ax = plt.subplots(nrows=2,ncols=3,figsize=(12,7))\n",
    "# fig.suptitle('SUMMARY')\n",
    "# ax[0,0].set(title='Line',xlabel='X',ylabel='Y')\n",
    "# ax[0,0].plot(a,b,'b*-.')\n",
    "# ax01 = ax[0,1].scatter(a,b,cmap='inferno',c=[4,9,2,1],s=200)\n",
    "# ax[0,2].barh(x,y,height=0.6,color='g')\n",
    "# ax[1,0].bar(soft_drink_prices.keys(),soft_drink_prices.values(),weight=0.5)\n",
    "# ax[1,1].hist(student_height,bins=30)\n",
    "# ax[1,2].boxplot(df['HP'].values)\n",
    "# line1, = ax.plot(x,y)\n",
    "# line2, = ax.plot(x,y)\n",
    "# ax.legend([line1,line2])\n",
    "\n",
    "# fig.legend(['Line','Bar','Scatter'],loc='lower center',fontsize=12,labelspacing=0.8,title='Ký hiệu',\n",
    "#            markerscale=0.4,shadow=True,ncol=3,labelcolor='y',facecolor='white')\n",
    "# fig.colorbar(ax10,ax=ax[0,1])\n",
    "# fig.suptitle('DATA VISUALIZATION 2022',fontsize=20,color='k',size=10,color='blue')\n",
    "# fig.tight_layout();\n",
    "# ax[0,1].spines['left'].set_visible(False)\n",
    "# ax[0,1].spines['bottom'].set_visible(False)\n",
    "# ax[0,1].spines['top'].set_visible(False)\n",
    "# ax[0,1].spines['right'].set_visible(False)\n",
    "# ax[1,0].annotate(label,(x,y),textcoords=\"offset points\",xytext=(5,16),ha='center',color='black',fontsize=13)\n",
    "# ax.set_xticks()\n",
    "# ax.set_xticklabels(['',''])\n",
    "# ax.set_yticks([-1,0,1])\n",
    "# ax[1,2].tick_params(colors='gray')\n",
    "# ax[1,0].set_ylim(0,230)\n",
    "# ax.set_xlabel('')\n",
    "# ax.set_ylabel('')\n",
    "# ax.xaxis.tick_top()"
   ]
  },
  {
   "cell_type": "markdown",
   "id": "a0221f1e",
   "metadata": {},
   "source": [
    "# PRACTICE: CALIFORNIA"
   ]
  },
  {
   "cell_type": "code",
   "execution_count": 142,
   "id": "463c2fe6",
   "metadata": {},
   "outputs": [],
   "source": [
    "# cities = pd.read_csv(r'C:\\Users\\ADMIN\\Documents\\Data_Science\\Data\\california_cities.csv',index_col=0)\n",
    "# area_sort = cities['area_total_km2'].sort_values(ascending=False)\n",
    "# fig,ax = plt.subplots()\n",
    "# value = ax.scatter(cities['longd'],cities['latd'],c=np.log10(cities['population_total']),cmap='viridis',\n",
    "#                    s=cities['area_total_km2'],linewidths=0,alpha=0.5)\n",
    "# ax.set(title='California Cities: Population and Area Distribution',xlabel='Longtitude',ylabel='Latitude')\n",
    "# area_range = [50,100,300,500]\n",
    "# for area in area_range:\n",
    "#     ax.scatter([],[],s=area,c='k',alpha=0.5,label=str(area)+'km$^2$')\n",
    "# ax.legend(labelspacing=0.8,title='City Area');\n",
    "# fig.colorbar(value,location='bottom');"
   ]
  }
 ],
 "metadata": {
  "kernelspec": {
   "display_name": "Python 3 (ipykernel)",
   "language": "python",
   "name": "python3"
  },
  "language_info": {
   "codemirror_mode": {
    "name": "ipython",
    "version": 3
   },
   "file_extension": ".py",
   "mimetype": "text/x-python",
   "name": "python",
   "nbconvert_exporter": "python",
   "pygments_lexer": "ipython3",
   "version": "3.9.12"
  }
 },
 "nbformat": 4,
 "nbformat_minor": 5
}
