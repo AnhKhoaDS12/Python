{
 "cells": [
  {
   "cell_type": "code",
   "execution_count": 1,
   "id": "1b31f28b",
   "metadata": {},
   "outputs": [],
   "source": [
    "import pandas as pd,numpy as np, matplotlib.pyplot as plt, seaborn as sns,warnings\n",
    "from sklearn.tree import DecisionTreeClassifier\n",
    "from sklearn.model_selection import train_test_split,KFold,cross_val_score,LeaveOneOut,ShuffleSplit,cross_validate\n",
    "from sklearn.metrics import recall_score\n",
    "warnings.filterwarnings('ignore')"
   ]
  },
  {
   "cell_type": "markdown",
   "id": "52ca8be8",
   "metadata": {},
   "source": [
    "# TRAIN TEST SPLIT"
   ]
  },
  {
   "cell_type": "code",
   "execution_count": null,
   "id": "14a44585",
   "metadata": {},
   "outputs": [],
   "source": [
    "X_train, X_test, y_train, y_test = train_test_split(X, y, test_size=0.30, random_state=4)"
   ]
  },
  {
   "cell_type": "markdown",
   "id": "a7e04410",
   "metadata": {},
   "source": [
    "# KFOLD CROSS VALIDATION"
   ]
  },
  {
   "cell_type": "code",
   "execution_count": 2,
   "id": "2bdaa122",
   "metadata": {},
   "outputs": [],
   "source": [
    "kfold_validation = KFold(n_splits=10)"
   ]
  },
  {
   "cell_type": "code",
   "execution_count": 4,
   "id": "861cc77f",
   "metadata": {},
   "outputs": [],
   "source": [
    "results = cross_val_score(model,X,y,cv = kfold_validation)\n",
    "print(\"%0.2f accuracy with a standard deviation of %0.2f\" % (scores.mean(), scores.std()))"
   ]
  },
  {
   "cell_type": "markdown",
   "id": "dcb75c26",
   "metadata": {},
   "source": [
    "# SPLIT"
   ]
  },
  {
   "cell_type": "code",
   "execution_count": 2,
   "id": "4f974f9d",
   "metadata": {},
   "outputs": [],
   "source": [
    "kf = KFold(n_splits=3)\n",
    "for train_index, test_index in kf.split(X):\n",
    "    X_train, X_test = X[train_index], X[test_index]\n",
    "    y_train, y_test = y[train_index], y[test_index]"
   ]
  },
  {
   "cell_type": "markdown",
   "id": "47c99c27",
   "metadata": {},
   "source": [
    "# LEAVE OUT OUT CROSS VALIDATION (LOOCV)"
   ]
  },
  {
   "cell_type": "code",
   "execution_count": null,
   "id": "e650cb33",
   "metadata": {},
   "outputs": [],
   "source": [
    "leave_validation = LeaveOneOut()\n",
    "results = cross_val_score(model,X,y,cv=leave_validation)"
   ]
  },
  {
   "cell_type": "markdown",
   "id": "062a3395",
   "metadata": {},
   "source": [
    "# Repeated Random Test-Train Splits (Kết hợp giữa train_test_split và KFold)\n",
    "\n",
    "+ This technique is a hybrid of traditional train-test splitting and the k-fold cross-validation method. In this technique, we create random splits of the data in the training-test set manner and then repeat the process of splitting and evaluating the algorithm multiple times, just like the cross-validation method."
   ]
  },
  {
   "cell_type": "code",
   "execution_count": 7,
   "id": "7cfed2c9",
   "metadata": {},
   "outputs": [
    {
     "data": {
      "text/plain": [
       "ShuffleSplit(n_splits=10, random_state=None, test_size=0.3, train_size=None)"
      ]
     },
     "execution_count": 7,
     "metadata": {},
     "output_type": "execute_result"
    }
   ],
   "source": [
    "ssplit = ShuffleSplit(n_splits=10,test_size=0.30)"
   ]
  },
  {
   "cell_type": "code",
   "execution_count": null,
   "id": "27f2285e",
   "metadata": {},
   "outputs": [],
   "source": [
    "results = cross_val_score(model,X,y,cv=ssplit)"
   ]
  },
  {
   "cell_type": "markdown",
   "id": "715380ae",
   "metadata": {},
   "source": [
    "# Cross_validate"
   ]
  },
  {
   "cell_type": "markdown",
   "id": "d913c796",
   "metadata": {},
   "source": [
    "The cross_validate function differs from cross_val_score in two ways:\n",
    "  + It allows specifying multiple metrics for evaluation.\n",
    "  + It returns a dict containing fit-times, score-times (and optionally training scores as well as fitted estimators) in addition to the test score."
   ]
  },
  {
   "cell_type": "code",
   "execution_count": null,
   "id": "79e6dd0a",
   "metadata": {},
   "outputs": [],
   "source": [
    "scoring = ['precision_macro', 'recall_macro']\n",
    "clf = svm.SVC(kernel='linear', C=1, random_state=0)\n",
    "scores = cross_validate(clf, X, y, scoring=scoring)\n",
    "#Have two parameters fit-times and score-times\n",
    "sorted(scores.keys())\n",
    "scores['test_recall_macro']"
   ]
  }
 ],
 "metadata": {
  "kernelspec": {
   "display_name": "Python 3 (ipykernel)",
   "language": "python",
   "name": "python3"
  },
  "language_info": {
   "codemirror_mode": {
    "name": "ipython",
    "version": 3
   },
   "file_extension": ".py",
   "mimetype": "text/x-python",
   "name": "python",
   "nbconvert_exporter": "python",
   "pygments_lexer": "ipython3",
   "version": "3.9.12"
  }
 },
 "nbformat": 4,
 "nbformat_minor": 5
}
