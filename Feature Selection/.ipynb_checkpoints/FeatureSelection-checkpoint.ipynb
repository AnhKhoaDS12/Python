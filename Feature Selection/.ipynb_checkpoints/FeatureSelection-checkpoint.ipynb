{
 "cells": [
  {
   "cell_type": "markdown",
   "id": "778b1dc0",
   "metadata": {},
   "source": [
    "# FEATURE SELECTION (Improve model accuracy, lower computational cost, easier to understand & explain)\n"
   ]
  },
  {
   "cell_type": "markdown",
   "id": "11fc3448",
   "metadata": {},
   "source": [
    "SUPERVISED\n",
    "+ Intrinsic: \n",
    "+ Wrapper Method (Bao bọc): Forward FS, Backward FS, Exhaustive FS, RFECV\n",
    "+ Filter Method (less time, not overfitting): Infomation gain, Chi2, Fisher's Score, Missing value ratio\n",
    " 1. Correlation Statistics: biến độc lập tương quan cao với biến phụ thuộc thì không nên loại bỏ, các biến độc lập tương quan cao với nhau nên loại bỏ.\n",
    " 2. Selection Method:\n",
    " 3. Transform Variables:\n",
    "+ Embedded (giống filter nhưng chính xác hơn): L1, Elastic(L1+L2), random forest importance\n"
   ]
  },
  {
   "cell_type": "markdown",
   "id": "bfbae08b",
   "metadata": {},
   "source": [
    "REGRESSION\n",
    "1. INPUT là NUMERICAL:\n",
    "+ Pearson's (linear): f_regression()\n",
    "+ Spearman's (non-linear): scipy.stats.spearmanr()\n",
    "2. INPUT là CATEGORICAL:\n",
    "+ Kendall's (non-linear: giả định categorical là ordinal): scipy.stats.kendalltau(X,y)\n",
    "+ Anova (linear): f_classif\n",
    "+ Mutual information(regression)"
   ]
  },
  {
   "cell_type": "markdown",
   "id": "47bb9e53",
   "metadata": {},
   "source": [
    "CLASSIFICATION\n",
    "1. Input là NUMERICAL:\n",
    "+ Kendall's (non-linear): giả định categorical là ordinal): scipy.stats.kendalltau(X,y)\n",
    "+ Anova (linear): f_classif\n",
    "2. Input là CATEGORICAL:\n",
    "+ Chi_squared (ưu tiên)\n",
    "+ Mutual information (classification)"
   ]
  },
  {
   "cell_type": "markdown",
   "id": "26c61d2b",
   "metadata": {},
   "source": [
    "# MUTUAL INFORMATION IN REGRESSION PROBLEM STATEMENTS\n",
    "Selection-Information gain - mutual information In Classification Problem Statements\n",
    "Mutual Information\n",
    "MI Estimate mutual information for a discrete target variable.\n",
    "\n",
    "Mutual information (MI) between two random variables is a non-negative value, which measures the dependency between the variables. It is equal to zero if and only if two random variables are independent, and higher values mean higher dependency.\n",
    "\n",
    "The function relies on nonparametric methods based on entropy estimation from k-nearest neighbors distances.\n",
    "\n",
    "Inshort:\n",
    "A quantity called mutual information measures the amount of information one can obtain from one random variable given another.\n",
    "\n",
    "The mutual information between two random variables X and Y can be stated formally as follows:\n",
    "\n",
    "I(X ; Y) = H(X) - H(X | Y) Where I(X ; Y) is the mutual information for X and Y, H(X) is the entropy for X and H(X | Y) is the conditional entropy for X given Y. The result has the units of bits.\n",
    "\n",
    "Youtube Videos\n",
    "+ Entropy: https://www.youtube.com/watch?v=1IQOtJ4NI_0\n",
    "+ Information Gain: https://www.youtube.com/watch?v=FuTRucXB9rA\n",
    "+ Gini Impurity: https://www.youtube.com/watch?v=5aIFgrrTqOw\n",
    "+ Statistical test: https://www.youtube.com/watch?v=4-rxTA_5_xA"
   ]
  },
  {
   "cell_type": "code",
   "execution_count": 2,
   "id": "794e3701",
   "metadata": {},
   "outputs": [],
   "source": [
    "import pandas as pd,numpy as np,matplotlib.pyplot as plt,seaborn as sns,warnings\n",
    "from sklearn.linear_model import LinearRegression,Lasso,Ridge\n",
    "from sklearn.feature_selection import SelectFromModel,SelectKBest,VarianceThreshold,RFECV,mutual_info_classif\n",
    "from sklearn.ensemble import ExtraTreesClassifier\n",
    "warnings.filterwarnings('ignore')\n",
    "%matplotlib inline"
   ]
  },
  {
   "cell_type": "code",
   "execution_count": 2,
   "id": "30b8f103",
   "metadata": {},
   "outputs": [],
   "source": [
    "df = pd.read_csv(r\"C:\\Users\\ADMIN\\Documents\\Data_Science\\Data\\House_price_train.csv\")\n",
    "X_train = df.drop(columns=['Id','SalePrice'],axis=1)\n",
    "y_train = df[['SalePrice']]"
   ]
  },
  {
   "cell_type": "markdown",
   "id": "db043f61",
   "metadata": {},
   "source": [
    "# SUPERVISED\n",
    "# 1. Embedded"
   ]
  },
  {
   "cell_type": "markdown",
   "id": "5de2018c",
   "metadata": {},
   "source": [
    "1.1. LASSO "
   ]
  },
  {
   "cell_type": "code",
   "execution_count": 12,
   "id": "fa81db75",
   "metadata": {},
   "outputs": [],
   "source": [
    "def FS_Lasso(X,y,alpha):\n",
    "    feature_select = SelectFromModel(Lasso(alpha=alpha,random_state=2))\n",
    "    feature_select.fit(X,y)\n",
    "    select_feature = X.columns[feature_select.get_support()]\n",
    "    X_lasso = X[select_feature]\n",
    "    return X_lasso"
   ]
  },
  {
   "cell_type": "code",
   "execution_count": 14,
   "id": "f5f63a15",
   "metadata": {},
   "outputs": [],
   "source": [
    "X_train = FS_Lasso(X_train,y_train,alpha=0.005)"
   ]
  },
  {
   "cell_type": "markdown",
   "id": "4debf5a1",
   "metadata": {},
   "source": [
    "1.2. ENSEMBLE : càng cao càng quan trọng, có quan hệ chặt chẽ với y."
   ]
  },
  {
   "cell_type": "code",
   "execution_count": null,
   "id": "8941bda3",
   "metadata": {},
   "outputs": [],
   "source": [
    "def FS_ExtraTrees(X,y,num_feature):\n",
    "    model = ExtraTreesClassifier()\n",
    "    model.fit(X,y)\n",
    "    ranker_features = pd.Series(model.feature_importances_,index=columns)\n",
    "    ranker_features.nlargest(num_feature).plot(kind='barh')\n",
    "    X_extre_trees = X[ranker_features.nlargest(num_feature).index]\n",
    "    return X_extre_trees"
   ]
  },
  {
   "cell_type": "code",
   "execution_count": null,
   "id": "64b52170",
   "metadata": {},
   "outputs": [],
   "source": [
    "X_train = FS_ExtraTrees(X_train,y_train,num_feature=10)"
   ]
  },
  {
   "cell_type": "markdown",
   "id": "5e4d3114",
   "metadata": {},
   "source": [
    "# 2. FILTER METHOD"
   ]
  },
  {
   "cell_type": "markdown",
   "id": "bce5f5ee",
   "metadata": {},
   "source": [
    "2.1. CORRELATION"
   ]
  },
  {
   "cell_type": "code",
   "execution_count": null,
   "id": "89a68dbb",
   "metadata": {},
   "outputs": [],
   "source": [
    "# # CORRELATION\n",
    "# def plot_corr(df,plot_name):\n",
    "#     data = df.corr().iloc[1:,:-1]\n",
    "#     mask = np.triu(np.ones_like(df.corr(),dtype=bool))[1:,:-1]\n",
    "#     cmap = sns.diverging_palette(0,230,90,60,as_cmap=True)\n",
    "#     fig,ax = plt.subplots(figsize=(16,8))\n",
    "#     sns.heatmap(data=data,cmap=cmap,mask=mask,annot=True,annot_kws={'fontsize':13},fmt='.2f',vmin=-1,vmax=1,\n",
    "#                 linecolor='white',linewidths=.5)\n",
    "#     ax.set_yticklabels([i.upper() for i in data.index],rotation=0)\n",
    "#     ax.set_xticklabels([i.upper() for i in data.columns],rotation=0)\n",
    "#     ax.set_title(plot_name,loc='right',fontsize=24)\n",
    "#     ax.set_ylabel('')\n",
    "#     ax.set_xlabel('')\n",
    "#     fig.tight_layout()\n",
    "# plot_corr(X_train,'CORRELATION MATRIX BANK MARKETING')\n",
    "# def Correlation(dataset, threshold):\n",
    "#     col_corr = set()\n",
    "#     corr_matrix = dataset.corr()\n",
    "#     for i in range(len(corr_matrix.columns)):\n",
    "#         for j in range(i):\n",
    "#             if abs(corr_matrix.iloc[i, j]) > threshold: \n",
    "#                 colname = corr_matrix.columns[i]\n",
    "#                 col_corr.add(colname)\n",
    "#     return col_corr\n",
    "# corr_features = Correlation(X_train,threshold = 0.7)\n",
    "# X_train = X_train.drop(columns = corr_features,axis=1)"
   ]
  },
  {
   "cell_type": "code",
   "execution_count": 12,
   "id": "d4abc797",
   "metadata": {},
   "outputs": [],
   "source": [
    "def plot_corr(df,plot_name):\n",
    "    data = df.corr().iloc[1:,:-1]\n",
    "    mask = np.triu(np.ones_like(df.corr(),dtype=bool))[1:,:-1]\n",
    "    cmap = sns.diverging_palette(0,230,90,60,as_cmap=True)\n",
    "    fig,ax = plt.subplots(figsize=(30,20))\n",
    "    sns.heatmap(data=data,cmap=cmap,mask=mask,annot=True,annot_kws={'fontsize':13},fmt='.2f',vmin=-1,vmax=1,linecolor='white',linewidths=.5)\n",
    "    ax.set_yticklabels([i.upper() for i in data.index],rotation=0)\n",
    "    ax.set_xticklabels([i.upper() for i in data.columns],rotation=0)\n",
    "    ax.set_title(plot_name,loc='right',fontsize=20)\n",
    "    plt.tight_layout()"
   ]
  },
  {
   "cell_type": "code",
   "execution_count": 14,
   "id": "5fbcbf9f",
   "metadata": {},
   "outputs": [],
   "source": [
    "plot_corr(X_train,'CORRELATION')"
   ]
  },
  {
   "cell_type": "code",
   "execution_count": null,
   "id": "84d11645",
   "metadata": {},
   "outputs": [],
   "source": [
    "def Correlation(dataset, threshold):\n",
    "    col_corr = set()\n",
    "    corr_matrix = dataset.corr()\n",
    "    for i in range(len(corr_matrix.columns)):\n",
    "        for j in range(i):\n",
    "            if abs(corr_matrix.iloc[i, j]) > threshold: \n",
    "                colname = corr_matrix.columns[i]\n",
    "                col_corr.add(colname)\n",
    "    return col_corr"
   ]
  },
  {
   "cell_type": "code",
   "execution_count": 3,
   "id": "fb0f4a98",
   "metadata": {},
   "outputs": [],
   "source": [
    "corr_features = Correlation(X,threshold = 0.7)"
   ]
  },
  {
   "cell_type": "code",
   "execution_count": 2,
   "id": "1c6c6860",
   "metadata": {},
   "outputs": [],
   "source": [
    "X_train.drop(corr_features,axis=1,inplace=True)"
   ]
  },
  {
   "cell_type": "markdown",
   "id": "27ddad41",
   "metadata": {},
   "source": [
    "2.2 SELECTION METHOD: điểm càng cao càng tốt"
   ]
  },
  {
   "cell_type": "code",
   "execution_count": null,
   "id": "6c98a4ef",
   "metadata": {},
   "outputs": [],
   "source": [
    "def Univariate(X_train,y_train,X_test,method,num_feature):\n",
    "    ordered_rank_features = SelectKBest(score_func=f_classif,k=5)\n",
    "    df_train = pd.DataFrame(ordered_rank_features.fit_transform(X_train_scale,y_train),columns=ordered_rank_features.get_feature_names_out())\n",
    "    df_test =  X_test[ordered_rank_features.get_feature_names_out()]\n",
    "    return df_train,df_test"
   ]
  },
  {
   "cell_type": "code",
   "execution_count": 24,
   "id": "41cc141b",
   "metadata": {},
   "outputs": [],
   "source": [
    "df_train,df_test = Univariate(X_train_scale,y_train,X_valid_scale,f_classif,num_feature=5)"
   ]
  },
  {
   "cell_type": "code",
   "execution_count": 5,
   "id": "64d7c081",
   "metadata": {},
   "outputs": [],
   "source": [
    "# select_top_columns = SelectPercentile(mutual_info_regression,percentile=20).fit(x_train,y_train)\n",
    "# df_mutual_info_reg = pd.concat([x_train[x_train.columns[select_top_columns.get_support()]],y_train],axis=1)\n",
    "# mutual_info_classification = mutual_info_classif(x_train,y_train)\n",
    "# mutual_info_classification = pd.Series(mutual_info_classification,index=x_train.columns)\n",
    "# mutual_info_classification.sort_values(ascending=True).plot.bar(figsize=(15,5))"
   ]
  },
  {
   "cell_type": "code",
   "execution_count": null,
   "id": "68ba1501",
   "metadata": {},
   "outputs": [],
   "source": [
    "# mutual_info_classification = mutual_info_classif(Train_scale,y_train)\n",
    "# mutual_info_classification = pd.Series(mutual_info_classification,index=Train_scale.columns)\n",
    "# mutual_info_classification.sort_values(ascending=True).plot.bar(figsize=(15,5))\n",
    "# Train_scale = Train_scale[mutual_info_classification.sort_values(ascending=False).index[0:22]]\n",
    "# test_scale = test_scale[mutual_info_classification.sort_values(ascending=False).index[0:22]]"
   ]
  },
  {
   "cell_type": "markdown",
   "id": "0a29b7d0",
   "metadata": {},
   "source": [
    "# WRAPPER METHOD\n",
    "# 1. RECURSIVE FEATURE ELIMINATION WITH CROSS VALIDATION"
   ]
  },
  {
   "cell_type": "code",
   "execution_count": null,
   "id": "0f93d310",
   "metadata": {},
   "outputs": [],
   "source": [
    "def RFECV(X,y):\n",
    "    regressor = LinearRegression()\n",
    "    feature_selector = RFECV(regressor)\n",
    "    fit = feature_selector.fit(X,y)\n",
    "    optimal_feature_count = feature_selector.n_features_\n",
    "    print(f\"Optimal numer of features: {optimal_feature_count}\")\n",
    "    X_new = X.loc[:, feature_selector.get_support()]\n",
    "    return X_new"
   ]
  },
  {
   "cell_type": "code",
   "execution_count": null,
   "id": "98f048b2",
   "metadata": {},
   "outputs": [],
   "source": [
    "# RFECV(X,y)"
   ]
  },
  {
   "cell_type": "code",
   "execution_count": null,
   "id": "c7641641",
   "metadata": {},
   "outputs": [],
   "source": [
    "# fig,ax = plts.subplots()\n",
    "# ax.plot(range(1, len(fit.grid_scores_) + 1), fit.grid_scores_, marker = \"o\")\n",
    "# ax.set(ylabel='Model Score',xlabel='Number of Features')\n",
    "# ax.set_title(f\"Feature Selection using RFE \\n Optimal number of features is {optimal_feature_count} (at score of {round(max(fit.grid_scores_), 4)})\")\n",
    "# fight.tight_layout() "
   ]
  },
  {
   "cell_type": "markdown",
   "id": "ff03a648",
   "metadata": {},
   "source": [
    "# UNSUPERVISED\n",
    "# DROPPING CONSTANT FEATURES"
   ]
  },
  {
   "cell_type": "code",
   "execution_count": 25,
   "id": "76bf712f",
   "metadata": {},
   "outputs": [],
   "source": [
    "def Var_Threshold(X,threshold):\n",
    "    var_thresold = VarianceThreshold(threshold=threshold)\n",
    "    var_thresold.fit(X)\n",
    "    select_feature_var = X.columns[var_threshold.get_support()]\n",
    "    constant_columns = [feature for feature in X.columns if feature not in selet_feature_var]\n",
    "    X_drop_constant = X.drop(columns=constant_columns)\n",
    "    return X_drop_constant"
   ]
  },
  {
   "cell_type": "code",
   "execution_count": null,
   "id": "8979be8e",
   "metadata": {},
   "outputs": [],
   "source": [
    "# X = Var_Threshold(X,threshold=0.6)"
   ]
  }
 ],
 "metadata": {
  "kernelspec": {
   "display_name": "Python 3 (ipykernel)",
   "language": "python",
   "name": "python3"
  },
  "language_info": {
   "codemirror_mode": {
    "name": "ipython",
    "version": 3
   },
   "file_extension": ".py",
   "mimetype": "text/x-python",
   "name": "python",
   "nbconvert_exporter": "python",
   "pygments_lexer": "ipython3",
   "version": "3.9.12"
  }
 },
 "nbformat": 4,
 "nbformat_minor": 5
}
